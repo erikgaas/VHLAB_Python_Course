{
 "cells": [
  {
   "cell_type": "markdown",
   "metadata": {},
   "source": [
    "# Jupyter Notebook"
   ]
  },
  {
   "cell_type": "markdown",
   "metadata": {},
   "source": [
    "Jupyter is just a wrapper for Python code. It comes with a lot of convenience tools though. There are two main modes which you can be in:\n",
    "    - Edit mode: Typing code or markdown,\n",
    "    - Command mode: where you can select cells and run them"
   ]
  },
  {
   "cell_type": "markdown",
   "metadata": {},
   "source": [
    "Every jupyter session starts fresh. So you can run cells when you open the notebook. You can either run each individually by pressing SHIFT+Enter on the highlighted cell, or run all cells. The cell tab at the top gives you these options. Expore the options in the tab, there are not many of them, but they will be used often enough"
   ]
  },
  {
   "cell_type": "markdown",
   "metadata": {},
   "source": [
    "# Bringing data into python: The Difficult way"
   ]
  },
  {
   "cell_type": "markdown",
   "metadata": {},
   "source": [
    "Jorge has been working on a problem where he takes point data generated from mimics and determines distance information. The first thing that needs to be done is to take this in and parse out the numerical data. We will do that using python's file library."
   ]
  },
  {
   "cell_type": "code",
   "execution_count": 4,
   "metadata": {
    "collapsed": true
   },
   "outputs": [],
   "source": [
    "f = open('./data/RCA_Test_Spline.txt', 'r') #I have saved a file in the data folder.\n",
    "#'r' is for reading files. We can write files too. We won't need to do that here.\n",
    "#and we will rarely ever have to do that."
   ]
  },
  {
   "cell_type": "markdown",
   "metadata": {},
   "source": [
    "The file object here is sort of like a promise to read a document. You can read the whole thing or you can read line by line. But if you decide to read the first line, it will tell you the second line if you do a read line a gain. In this way, a file object is one that both can return values to you while changing its state."
   ]
  },
  {
   "cell_type": "code",
   "execution_count": 5,
   "metadata": {
    "collapsed": false
   },
   "outputs": [
    {
     "name": "stdout",
     "output_type": "stream",
     "text": [
      "Legend\n",
      "\n"
     ]
    }
   ],
   "source": [
    "print(f.readline())"
   ]
  },
  {
   "cell_type": "code",
   "execution_count": 6,
   "metadata": {
    "collapsed": false
   },
   "outputs": [
    {
     "name": "stdout",
     "output_type": "stream",
     "text": [
      "======\n",
      "\n"
     ]
    }
   ],
   "source": [
    "print(f.readline())"
   ]
  },
  {
   "cell_type": "code",
   "execution_count": 7,
   "metadata": {
    "collapsed": false,
    "scrolled": true
   },
   "outputs": [
    {
     "name": "stdout",
     "output_type": "stream",
     "text": [
      "\n",
      "Spline:\n",
      "Name:          Name of the spline\n",
      "Xp,Yp,Zp:      Coordinates of point P on spline\n",
      "\n",
      "Data\n",
      "====\n",
      "\n",
      "Spline:\n",
      "Name: RCA\n",
      "X0 Y0 Z0: 27.31  12.30  18.66 \n",
      "X1 Y1 Z1: 26.40  13.08  19.79 \n",
      "X2 Y2 Z2: 24.85  14.08  21.45 \n",
      "X3 Y3 Z3: 23.65  14.55  22.67 \n",
      "X4 Y4 Z4: 22.20  15.08  24.27 \n",
      "X5 Y5 Z5: 20.75  15.38  25.75 \n",
      "X6 Y6 Z6: 19.00  15.29  26.93 \n",
      "X7 Y7 Z7: 17.32  15.12  28.21 \n",
      "X8 Y8 Z8: 15.74  14.86  29.15 \n",
      "X9 Y9 Z9: 13.90  12.97  29.75 \n",
      "X10 Y10 Z10: 12.23  12.48  30.84 \n",
      "X11 Y11 Z11: 10.02  11.84  32.11 \n",
      "X12 Y12 Z12: 7.04   10.40  34.03 \n",
      "X13 Y13 Z13: 4.97   8.80   35.26 \n",
      "X14 Y14 Z14: 2.77   6.61   35.89 \n",
      "X15 Y15 Z15: 0.58   4.38   36.66 \n",
      "X16 Y16 Z16: -1.45  3.06   37.11 \n",
      "X17 Y17 Z17: -4.09  0.52   37.05 \n",
      "X18 Y18 Z18: -6.47  -0.76  37.95 \n",
      "X19 Y19 Z19: -7.70  -4.25  37.12 \n",
      "X20 Y20 Z20: -10.36 -6.29  38.10 \n",
      "X21 Y21 Z21: -11.24 -9.54  36.88 \n",
      "X22 Y22 Z22: -12.26 -11.09 36.93 \n",
      "X23 Y23 Z23: -14.42 -11.16 36.55 \n",
      "X24 Y24 Z24: -15.76 -12.52 36.12 \n",
      "X25 Y25 Z25: -15.99 -14.75 34.92 \n",
      "X26 Y26 Z26: -17.34 -16.15 34.48 \n",
      "X27 Y27 Z27: -17.72 -17.70 33.09 \n",
      "X28 Y28 Z28: -17.59 -19.83 31.34 \n",
      "X29 Y29 Z29: -17.03 -22.50 30.07 \n",
      "X30 Y30 Z30: -17.42 -24.78 29.26 \n",
      "X31 Y31 Z31: -17.20 -27.02 28.09 \n",
      "X32 Y32 Z32: -16.89 -29.09 26.77 \n",
      "X33 Y33 Z33: -16.24 -30.99 25.36 \n",
      "X34 Y34 Z34: -15.33 -32.48 23.73 \n",
      "X35 Y35 Z35: -14.68 -34.07 22.07 \n",
      "X36 Y36 Z36: -13.82 -35.26 19.99 \n",
      "X37 Y37 Z37: -13.13 -36.33 18.02 \n",
      "X38 Y38 Z38: -12.48 -36.79 15.88 \n",
      "X39 Y39 Z39: -11.09 -37.52 13.65 \n",
      "X40 Y40 Z40: -9.19  -38.44 11.20 \n",
      "X41 Y41 Z41: -7.48  -38.47 9.16  \n",
      "X42 Y42 Z42: -5.38  -38.67 7.86  \n",
      "X43 Y43 Z43: -2.25  -40.02 5.94  \n",
      "\n"
     ]
    }
   ],
   "source": [
    "print(f.read()) #Notice how This does not tell you about 'Legend' and \n",
    "#'=====' because that has already been read"
   ]
  },
  {
   "cell_type": "code",
   "execution_count": 8,
   "metadata": {
    "collapsed": false
   },
   "outputs": [
    {
     "data": {
      "text/plain": [
       "''"
      ]
     },
     "execution_count": 8,
     "metadata": {},
     "output_type": "execute_result"
    }
   ],
   "source": [
    "f.read() #There is nothing more left to read"
   ]
  },
  {
   "cell_type": "code",
   "execution_count": 9,
   "metadata": {
    "collapsed": true
   },
   "outputs": [],
   "source": [
    "f.close() #Let's close the file before we read it again so\n",
    "#we can free up any memory that python may be reserving still for the file"
   ]
  },
  {
   "cell_type": "code",
   "execution_count": 10,
   "metadata": {
    "collapsed": true
   },
   "outputs": [],
   "source": [
    "f = open('./data/RCA_Test_Spline.txt', 'r')"
   ]
  },
  {
   "cell_type": "code",
   "execution_count": 11,
   "metadata": {
    "collapsed": true
   },
   "outputs": [],
   "source": [
    "#There are a lot of ways we could go about picking the lines we need.\n",
    "#Using regular expressions is one possibility.\n",
    "#We are going to take a naive approach and just take the lines that have\n",
    "#X's in them\n",
    "ls = []\n",
    "for line in f:\n",
    "    #In a file object, python makes this equivalent to doing each readline\n",
    "    if 'X' in line:\n",
    "        ls.append(line)"
   ]
  },
  {
   "cell_type": "markdown",
   "metadata": {},
   "source": [
    "For loops are great and everything, but I don't like them very much. I will replace them with list comprehensions whenever I can because it looks so much better and makes me make less variables. So let's do that instead."
   ]
  },
  {
   "cell_type": "code",
   "execution_count": 37,
   "metadata": {
    "collapsed": true
   },
   "outputs": [],
   "source": [
    "f = open('./data/RCA_Test_Spline.txt', 'r')\n",
    "points = [line for line in f if 'X' in line]\n",
    "f.close()"
   ]
  },
  {
   "cell_type": "code",
   "execution_count": 38,
   "metadata": {
    "collapsed": false,
    "scrolled": true
   },
   "outputs": [
    {
     "data": {
      "text/plain": [
       "['Xp,Yp,Zp:      Coordinates of point P on spline\\n',\n",
       " 'X0 Y0 Z0: 27.31  12.30  18.66 \\n',\n",
       " 'X1 Y1 Z1: 26.40  13.08  19.79 \\n',\n",
       " 'X2 Y2 Z2: 24.85  14.08  21.45 \\n',\n",
       " 'X3 Y3 Z3: 23.65  14.55  22.67 \\n',\n",
       " 'X4 Y4 Z4: 22.20  15.08  24.27 \\n',\n",
       " 'X5 Y5 Z5: 20.75  15.38  25.75 \\n',\n",
       " 'X6 Y6 Z6: 19.00  15.29  26.93 \\n',\n",
       " 'X7 Y7 Z7: 17.32  15.12  28.21 \\n',\n",
       " 'X8 Y8 Z8: 15.74  14.86  29.15 \\n',\n",
       " 'X9 Y9 Z9: 13.90  12.97  29.75 \\n',\n",
       " 'X10 Y10 Z10: 12.23  12.48  30.84 \\n',\n",
       " 'X11 Y11 Z11: 10.02  11.84  32.11 \\n',\n",
       " 'X12 Y12 Z12: 7.04   10.40  34.03 \\n',\n",
       " 'X13 Y13 Z13: 4.97   8.80   35.26 \\n',\n",
       " 'X14 Y14 Z14: 2.77   6.61   35.89 \\n',\n",
       " 'X15 Y15 Z15: 0.58   4.38   36.66 \\n',\n",
       " 'X16 Y16 Z16: -1.45  3.06   37.11 \\n',\n",
       " 'X17 Y17 Z17: -4.09  0.52   37.05 \\n',\n",
       " 'X18 Y18 Z18: -6.47  -0.76  37.95 \\n',\n",
       " 'X19 Y19 Z19: -7.70  -4.25  37.12 \\n',\n",
       " 'X20 Y20 Z20: -10.36 -6.29  38.10 \\n',\n",
       " 'X21 Y21 Z21: -11.24 -9.54  36.88 \\n',\n",
       " 'X22 Y22 Z22: -12.26 -11.09 36.93 \\n',\n",
       " 'X23 Y23 Z23: -14.42 -11.16 36.55 \\n',\n",
       " 'X24 Y24 Z24: -15.76 -12.52 36.12 \\n',\n",
       " 'X25 Y25 Z25: -15.99 -14.75 34.92 \\n',\n",
       " 'X26 Y26 Z26: -17.34 -16.15 34.48 \\n',\n",
       " 'X27 Y27 Z27: -17.72 -17.70 33.09 \\n',\n",
       " 'X28 Y28 Z28: -17.59 -19.83 31.34 \\n',\n",
       " 'X29 Y29 Z29: -17.03 -22.50 30.07 \\n',\n",
       " 'X30 Y30 Z30: -17.42 -24.78 29.26 \\n',\n",
       " 'X31 Y31 Z31: -17.20 -27.02 28.09 \\n',\n",
       " 'X32 Y32 Z32: -16.89 -29.09 26.77 \\n',\n",
       " 'X33 Y33 Z33: -16.24 -30.99 25.36 \\n',\n",
       " 'X34 Y34 Z34: -15.33 -32.48 23.73 \\n',\n",
       " 'X35 Y35 Z35: -14.68 -34.07 22.07 \\n',\n",
       " 'X36 Y36 Z36: -13.82 -35.26 19.99 \\n',\n",
       " 'X37 Y37 Z37: -13.13 -36.33 18.02 \\n',\n",
       " 'X38 Y38 Z38: -12.48 -36.79 15.88 \\n',\n",
       " 'X39 Y39 Z39: -11.09 -37.52 13.65 \\n',\n",
       " 'X40 Y40 Z40: -9.19  -38.44 11.20 \\n',\n",
       " 'X41 Y41 Z41: -7.48  -38.47 9.16  \\n',\n",
       " 'X42 Y42 Z42: -5.38  -38.67 7.86  \\n',\n",
       " 'X43 Y43 Z43: -2.25  -40.02 5.94  \\n']"
      ]
     },
     "execution_count": 38,
     "metadata": {},
     "output_type": "execute_result"
    }
   ],
   "source": [
    "points"
   ]
  },
  {
   "cell_type": "code",
   "execution_count": 39,
   "metadata": {
    "collapsed": false,
    "scrolled": true
   },
   "outputs": [
    {
     "data": {
      "text/plain": [
       "['X0 Y0 Z0: 27.31  12.30  18.66',\n",
       " 'X1 Y1 Z1: 26.40  13.08  19.79',\n",
       " 'X2 Y2 Z2: 24.85  14.08  21.45',\n",
       " 'X3 Y3 Z3: 23.65  14.55  22.67',\n",
       " 'X4 Y4 Z4: 22.20  15.08  24.27',\n",
       " 'X5 Y5 Z5: 20.75  15.38  25.75',\n",
       " 'X6 Y6 Z6: 19.00  15.29  26.93',\n",
       " 'X7 Y7 Z7: 17.32  15.12  28.21',\n",
       " 'X8 Y8 Z8: 15.74  14.86  29.15',\n",
       " 'X9 Y9 Z9: 13.90  12.97  29.75',\n",
       " 'X10 Y10 Z10: 12.23  12.48  30.84',\n",
       " 'X11 Y11 Z11: 10.02  11.84  32.11',\n",
       " 'X12 Y12 Z12: 7.04   10.40  34.03',\n",
       " 'X13 Y13 Z13: 4.97   8.80   35.26',\n",
       " 'X14 Y14 Z14: 2.77   6.61   35.89',\n",
       " 'X15 Y15 Z15: 0.58   4.38   36.66',\n",
       " 'X16 Y16 Z16: -1.45  3.06   37.11',\n",
       " 'X17 Y17 Z17: -4.09  0.52   37.05',\n",
       " 'X18 Y18 Z18: -6.47  -0.76  37.95',\n",
       " 'X19 Y19 Z19: -7.70  -4.25  37.12',\n",
       " 'X20 Y20 Z20: -10.36 -6.29  38.10',\n",
       " 'X21 Y21 Z21: -11.24 -9.54  36.88',\n",
       " 'X22 Y22 Z22: -12.26 -11.09 36.93',\n",
       " 'X23 Y23 Z23: -14.42 -11.16 36.55',\n",
       " 'X24 Y24 Z24: -15.76 -12.52 36.12',\n",
       " 'X25 Y25 Z25: -15.99 -14.75 34.92',\n",
       " 'X26 Y26 Z26: -17.34 -16.15 34.48',\n",
       " 'X27 Y27 Z27: -17.72 -17.70 33.09',\n",
       " 'X28 Y28 Z28: -17.59 -19.83 31.34',\n",
       " 'X29 Y29 Z29: -17.03 -22.50 30.07',\n",
       " 'X30 Y30 Z30: -17.42 -24.78 29.26',\n",
       " 'X31 Y31 Z31: -17.20 -27.02 28.09',\n",
       " 'X32 Y32 Z32: -16.89 -29.09 26.77',\n",
       " 'X33 Y33 Z33: -16.24 -30.99 25.36',\n",
       " 'X34 Y34 Z34: -15.33 -32.48 23.73',\n",
       " 'X35 Y35 Z35: -14.68 -34.07 22.07',\n",
       " 'X36 Y36 Z36: -13.82 -35.26 19.99',\n",
       " 'X37 Y37 Z37: -13.13 -36.33 18.02',\n",
       " 'X38 Y38 Z38: -12.48 -36.79 15.88',\n",
       " 'X39 Y39 Z39: -11.09 -37.52 13.65',\n",
       " 'X40 Y40 Z40: -9.19  -38.44 11.20',\n",
       " 'X41 Y41 Z41: -7.48  -38.47 9.16',\n",
       " 'X42 Y42 Z42: -5.38  -38.67 7.86',\n",
       " 'X43 Y43 Z43: -2.25  -40.02 5.94']"
      ]
     },
     "execution_count": 39,
     "metadata": {},
     "output_type": "execute_result"
    }
   ],
   "source": [
    "#That worked fine, let's get rid of \n",
    "stripped_points = [point.strip() for point in points[1:]]\n",
    "stripped_points"
   ]
  },
  {
   "cell_type": "code",
   "execution_count": 40,
   "metadata": {
    "collapsed": false,
    "scrolled": true
   },
   "outputs": [],
   "source": [
    "[point.split() for point in stripped_points]\n",
    "#[point.split()[3:] for point in stripped_points]\n",
    "#or\n",
    "points = [point.strip().split()[3:] for point in points[1:]] #Chain chain chain chain..."
   ]
  },
  {
   "cell_type": "code",
   "execution_count": 45,
   "metadata": {
    "collapsed": false,
    "scrolled": true
   },
   "outputs": [
    {
     "data": {
      "text/plain": [
       "[[27.31, 12.3, 18.66],\n",
       " [26.4, 13.08, 19.79],\n",
       " [24.85, 14.08, 21.45],\n",
       " [23.65, 14.55, 22.67],\n",
       " [22.2, 15.08, 24.27],\n",
       " [20.75, 15.38, 25.75],\n",
       " [19.0, 15.29, 26.93],\n",
       " [17.32, 15.12, 28.21],\n",
       " [15.74, 14.86, 29.15],\n",
       " [13.9, 12.97, 29.75],\n",
       " [12.23, 12.48, 30.84],\n",
       " [10.02, 11.84, 32.11],\n",
       " [7.04, 10.4, 34.03],\n",
       " [4.97, 8.8, 35.26],\n",
       " [2.77, 6.61, 35.89],\n",
       " [0.58, 4.38, 36.66],\n",
       " [-1.45, 3.06, 37.11],\n",
       " [-4.09, 0.52, 37.05],\n",
       " [-6.47, -0.76, 37.95],\n",
       " [-7.7, -4.25, 37.12],\n",
       " [-10.36, -6.29, 38.1],\n",
       " [-11.24, -9.54, 36.88],\n",
       " [-12.26, -11.09, 36.93],\n",
       " [-14.42, -11.16, 36.55],\n",
       " [-15.76, -12.52, 36.12],\n",
       " [-15.99, -14.75, 34.92],\n",
       " [-17.34, -16.15, 34.48],\n",
       " [-17.72, -17.7, 33.09],\n",
       " [-17.59, -19.83, 31.34],\n",
       " [-17.03, -22.5, 30.07],\n",
       " [-17.42, -24.78, 29.26],\n",
       " [-17.2, -27.02, 28.09],\n",
       " [-16.89, -29.09, 26.77],\n",
       " [-16.24, -30.99, 25.36],\n",
       " [-15.33, -32.48, 23.73],\n",
       " [-14.68, -34.07, 22.07],\n",
       " [-13.82, -35.26, 19.99],\n",
       " [-13.13, -36.33, 18.02],\n",
       " [-12.48, -36.79, 15.88],\n",
       " [-11.09, -37.52, 13.65],\n",
       " [-9.19, -38.44, 11.2],\n",
       " [-7.48, -38.47, 9.16],\n",
       " [-5.38, -38.67, 7.86],\n",
       " [-2.25, -40.02, 5.94]]"
      ]
     },
     "execution_count": 45,
     "metadata": {},
     "output_type": "execute_result"
    }
   ],
   "source": [
    "#Nested for list comprehension\n",
    "ls = []\n",
    "for point in points:\n",
    "    ls.append([])\n",
    "    for coord in point:\n",
    "        ls[-1].append(float(coord))\n",
    "\n",
    "ls\n",
    "#[[float(coord) for coord in point] for point in points]"
   ]
  },
  {
   "cell_type": "code",
   "execution_count": 48,
   "metadata": {
    "collapsed": false,
    "scrolled": true
   },
   "outputs": [
    {
     "data": {
      "text/plain": [
       "[[27.31, 12.3, 18.66],\n",
       " [26.4, 13.08, 19.79],\n",
       " [24.85, 14.08, 21.45],\n",
       " [23.65, 14.55, 22.67],\n",
       " [22.2, 15.08, 24.27],\n",
       " [20.75, 15.38, 25.75],\n",
       " [19.0, 15.29, 26.93],\n",
       " [17.32, 15.12, 28.21],\n",
       " [15.74, 14.86, 29.15],\n",
       " [13.9, 12.97, 29.75],\n",
       " [12.23, 12.48, 30.84],\n",
       " [10.02, 11.84, 32.11],\n",
       " [7.04, 10.4, 34.03],\n",
       " [4.97, 8.8, 35.26],\n",
       " [2.77, 6.61, 35.89],\n",
       " [0.58, 4.38, 36.66],\n",
       " [-1.45, 3.06, 37.11],\n",
       " [-4.09, 0.52, 37.05],\n",
       " [-6.47, -0.76, 37.95],\n",
       " [-7.7, -4.25, 37.12],\n",
       " [-10.36, -6.29, 38.1],\n",
       " [-11.24, -9.54, 36.88],\n",
       " [-12.26, -11.09, 36.93],\n",
       " [-14.42, -11.16, 36.55],\n",
       " [-15.76, -12.52, 36.12],\n",
       " [-15.99, -14.75, 34.92],\n",
       " [-17.34, -16.15, 34.48],\n",
       " [-17.72, -17.7, 33.09],\n",
       " [-17.59, -19.83, 31.34],\n",
       " [-17.03, -22.5, 30.07],\n",
       " [-17.42, -24.78, 29.26],\n",
       " [-17.2, -27.02, 28.09],\n",
       " [-16.89, -29.09, 26.77],\n",
       " [-16.24, -30.99, 25.36],\n",
       " [-15.33, -32.48, 23.73],\n",
       " [-14.68, -34.07, 22.07],\n",
       " [-13.82, -35.26, 19.99],\n",
       " [-13.13, -36.33, 18.02],\n",
       " [-12.48, -36.79, 15.88],\n",
       " [-11.09, -37.52, 13.65],\n",
       " [-9.19, -38.44, 11.2],\n",
       " [-7.48, -38.47, 9.16],\n",
       " [-5.38, -38.67, 7.86],\n",
       " [-2.25, -40.02, 5.94]]"
      ]
     },
     "execution_count": 48,
     "metadata": {},
     "output_type": "execute_result"
    }
   ],
   "source": [
    "#This is the sum total of everything we've done so far.\n",
    "def extract_data(point_file_path):\n",
    "    f = open(point_file_path, 'r')\n",
    "    #This is the bad line. Should probably be regex\n",
    "    #We are just being lazy.\n",
    "    points = [line for line in f if 'X' in line]\n",
    "    f.close()\n",
    "    points = [point.strip().split()[3:] for point in points[1:]]\n",
    "    points = [[float(coord) for coord in point] for point in points]\n",
    "    return points\n",
    "\n",
    "extracted_points = extract_data('./data/RCA_Test_Spline.txt')\n",
    "extracted_points"
   ]
  },
  {
   "cell_type": "markdown",
   "metadata": {},
   "source": [
    "# Numpy"
   ]
  },
  {
   "cell_type": "markdown",
   "metadata": {},
   "source": [
    "Numpy is the core of fast matrix computing in Python. Lists in python are too slow to do lots of math with. Numpy save data in contiguous memory and uses a fast C++ backend to make everything fast. As an example we will use Jorge's problem of finding the closest point between to point sets."
   ]
  },
  {
   "cell_type": "code",
   "execution_count": 53,
   "metadata": {
    "collapsed": false,
    "scrolled": true
   },
   "outputs": [
    {
     "data": {
      "text/plain": [
       "array([[ 27.31,  12.3 ,  18.66],\n",
       "       [ 26.4 ,  13.08,  19.79],\n",
       "       [ 24.85,  14.08,  21.45],\n",
       "       [ 23.65,  14.55,  22.67],\n",
       "       [ 22.2 ,  15.08,  24.27],\n",
       "       [ 20.75,  15.38,  25.75],\n",
       "       [ 19.  ,  15.29,  26.93],\n",
       "       [ 17.32,  15.12,  28.21],\n",
       "       [ 15.74,  14.86,  29.15],\n",
       "       [ 13.9 ,  12.97,  29.75],\n",
       "       [ 12.23,  12.48,  30.84],\n",
       "       [ 10.02,  11.84,  32.11],\n",
       "       [  7.04,  10.4 ,  34.03],\n",
       "       [  4.97,   8.8 ,  35.26],\n",
       "       [  2.77,   6.61,  35.89],\n",
       "       [  0.58,   4.38,  36.66],\n",
       "       [ -1.45,   3.06,  37.11],\n",
       "       [ -4.09,   0.52,  37.05],\n",
       "       [ -6.47,  -0.76,  37.95],\n",
       "       [ -7.7 ,  -4.25,  37.12],\n",
       "       [-10.36,  -6.29,  38.1 ],\n",
       "       [-11.24,  -9.54,  36.88],\n",
       "       [-12.26, -11.09,  36.93],\n",
       "       [-14.42, -11.16,  36.55],\n",
       "       [-15.76, -12.52,  36.12],\n",
       "       [-15.99, -14.75,  34.92],\n",
       "       [-17.34, -16.15,  34.48],\n",
       "       [-17.72, -17.7 ,  33.09],\n",
       "       [-17.59, -19.83,  31.34],\n",
       "       [-17.03, -22.5 ,  30.07],\n",
       "       [-17.42, -24.78,  29.26],\n",
       "       [-17.2 , -27.02,  28.09],\n",
       "       [-16.89, -29.09,  26.77],\n",
       "       [-16.24, -30.99,  25.36],\n",
       "       [-15.33, -32.48,  23.73],\n",
       "       [-14.68, -34.07,  22.07],\n",
       "       [-13.82, -35.26,  19.99],\n",
       "       [-13.13, -36.33,  18.02],\n",
       "       [-12.48, -36.79,  15.88],\n",
       "       [-11.09, -37.52,  13.65],\n",
       "       [ -9.19, -38.44,  11.2 ],\n",
       "       [ -7.48, -38.47,   9.16],\n",
       "       [ -5.38, -38.67,   7.86],\n",
       "       [ -2.25, -40.02,   5.94]])"
      ]
     },
     "execution_count": 53,
     "metadata": {},
     "output_type": "execute_result"
    }
   ],
   "source": [
    "import numpy as np\n",
    "#It is easy to convert a list of values like this,\n",
    "#Into a numpy array. Simply pass it into the np.array method,\n",
    "#and now it will be a numpy array object with all its\n",
    "#own methods.\n",
    "points_np = np.array(extracted_points)\n",
    "points_np"
   ]
  },
  {
   "cell_type": "code",
   "execution_count": 55,
   "metadata": {
    "collapsed": false,
    "scrolled": true
   },
   "outputs": [
    {
     "data": {
      "text/plain": [
       "array([[ 27.31,  12.3 ,  18.66],\n",
       "       [ 26.4 ,  13.08,  19.79],\n",
       "       [ 24.85,  14.08,  21.45],\n",
       "       [ 23.65,  14.55,  22.67],\n",
       "       [ 22.2 ,  15.08,  24.27],\n",
       "       [ 20.75,  15.38,  25.75],\n",
       "       [ 19.  ,  15.29,  26.93],\n",
       "       [ 17.32,  15.12,  28.21],\n",
       "       [ 15.74,  14.86,  29.15],\n",
       "       [ 13.9 ,  12.97,  29.75],\n",
       "       [ 12.23,  12.48,  30.84],\n",
       "       [ 10.02,  11.84,  32.11],\n",
       "       [  7.04,  10.4 ,  34.03],\n",
       "       [  4.97,   8.8 ,  35.26],\n",
       "       [  2.77,   6.61,  35.89],\n",
       "       [  0.58,   4.38,  36.66],\n",
       "       [ -1.45,   3.06,  37.11],\n",
       "       [ -4.09,   0.52,  37.05],\n",
       "       [ -6.47,  -0.76,  37.95],\n",
       "       [ -7.7 ,  -4.25,  37.12],\n",
       "       [-10.36,  -6.29,  38.1 ],\n",
       "       [-11.24,  -9.54,  36.88],\n",
       "       [-12.26, -11.09,  36.93],\n",
       "       [-14.42, -11.16,  36.55],\n",
       "       [-15.76, -12.52,  36.12],\n",
       "       [-15.99, -14.75,  34.92],\n",
       "       [-17.34, -16.15,  34.48],\n",
       "       [-17.72, -17.7 ,  33.09],\n",
       "       [-17.59, -19.83,  31.34],\n",
       "       [-17.03, -22.5 ,  30.07],\n",
       "       [-17.42, -24.78,  29.26],\n",
       "       [-17.2 , -27.02,  28.09],\n",
       "       [-16.89, -29.09,  26.77],\n",
       "       [-16.24, -30.99,  25.36],\n",
       "       [-15.33, -32.48,  23.73],\n",
       "       [-14.68, -34.07,  22.07],\n",
       "       [-13.82, -35.26,  19.99],\n",
       "       [-13.13, -36.33,  18.02],\n",
       "       [-12.48, -36.79,  15.88],\n",
       "       [-11.09, -37.52,  13.65],\n",
       "       [ -9.19, -38.44,  11.2 ],\n",
       "       [ -7.48, -38.47,   9.16],\n",
       "       [ -5.38, -38.67,   7.86],\n",
       "       [ -2.25, -40.02,   5.94]])"
      ]
     },
     "execution_count": 55,
     "metadata": {},
     "output_type": "execute_result"
    }
   ],
   "source": [
    "#We can change our method to return a numpy array instead.\n",
    "def extract_data_np(point_file_path):\n",
    "    f = open(point_file_path, 'r')\n",
    "    #This is the bad line. Should probably be regex\n",
    "    #We are just being lazy.\n",
    "    points = [line for line in f if 'X' in line]\n",
    "    f.close()\n",
    "    points = [point.strip().split()[3:] for point in points[1:]]\n",
    "    #points = np.array(points).astype(float) #We like this much better\n",
    "    #points = [[float(coord) for coord in point] for point in points]\n",
    "    return points\n",
    "\n",
    "extract_data_np('./data/RCA_Test_Spline.txt')"
   ]
  },
  {
   "cell_type": "markdown",
   "metadata": {},
   "source": [
    "Remember that this is the hard way of doing things. Mimics returns files that are not easily parsable, but list comprehensions make dealing with this a fairly easy process. When we get more structured data, like a csv, the pandas library will be able to create a tabular data object for us in one line. For data like this though, it makes more sense to keep it as a numpy array. You don't have fields that you need to query or match up to anything else, you just care about the math behind it."
   ]
  },
  {
   "cell_type": "code",
   "execution_count": 1,
   "metadata": {
    "collapsed": false
   },
   "outputs": [
    {
     "data": {
      "text/plain": [
       "array([[0.21353496, 0.3834453 , 0.56432614],\n",
       "       [0.69772295, 0.39672954, 0.2747583 ],\n",
       "       [0.3034489 , 0.41751568, 0.69772927],\n",
       "       [0.30413305, 0.67913954, 0.37630028],\n",
       "       [0.15937635, 0.40533564, 0.97341271],\n",
       "       [0.69822766, 0.95237304, 0.49655389],\n",
       "       [0.52424429, 0.52050969, 0.15214705],\n",
       "       [0.64268822, 0.77106205, 0.23334826],\n",
       "       [0.76984718, 0.90613019, 0.66798594],\n",
       "       [0.02097098, 0.10248472, 0.35366696],\n",
       "       [0.30289593, 0.68625763, 0.98727945],\n",
       "       [0.69270558, 0.50318029, 0.40569417],\n",
       "       [0.57050612, 0.01199752, 0.73033142],\n",
       "       [0.40833829, 0.96199326, 0.9340937 ],\n",
       "       [0.77476349, 0.92064619, 0.30979368],\n",
       "       [0.71643566, 0.13264324, 0.93598299],\n",
       "       [0.89097785, 0.9849063 , 0.55294764],\n",
       "       [0.28109038, 0.37466919, 0.00901289],\n",
       "       [0.62930505, 0.18521589, 0.29459521],\n",
       "       [0.75078031, 0.88621428, 0.01533064],\n",
       "       [0.25550922, 0.30569632, 0.68970241],\n",
       "       [0.58248162, 0.11384877, 0.67044518],\n",
       "       [0.78936591, 0.5090875 , 0.19826817],\n",
       "       [0.77004809, 0.54082991, 0.35801121],\n",
       "       [0.13033288, 0.71564562, 0.73903835],\n",
       "       [0.48753521, 0.00254113, 0.01054102],\n",
       "       [0.57446014, 0.66560441, 0.87358285],\n",
       "       [0.96463085, 0.12240751, 0.98261043],\n",
       "       [0.26948677, 0.70795767, 0.58772505],\n",
       "       [0.16049005, 0.90084053, 0.51924465],\n",
       "       [0.49993102, 0.27379444, 0.70404962],\n",
       "       [0.70566701, 0.60043639, 0.73351586],\n",
       "       [0.88926485, 0.38380912, 0.40216195],\n",
       "       [0.00628465, 0.26656049, 0.00803897],\n",
       "       [0.89947997, 0.27490439, 0.55544246],\n",
       "       [0.84737506, 0.27159918, 0.34456532],\n",
       "       [0.74734031, 0.07325166, 0.65392816],\n",
       "       [0.76358472, 0.34819171, 0.70066574],\n",
       "       [0.49669446, 0.72353608, 0.33836299],\n",
       "       [0.24339129, 0.57969496, 0.04459058]])"
      ]
     },
     "execution_count": 1,
     "metadata": {},
     "output_type": "execute_result"
    }
   ],
   "source": [
    "\n",
    "#Placeholders for using our above method on some cool data files.\n",
    "ps1 = np.random.random((40,3))\n",
    "ps2 = np.random.random((30,3))\n",
    "\n",
    "ps1"
   ]
  },
  {
   "cell_type": "code",
   "execution_count": 56,
   "metadata": {
    "collapsed": false
   },
   "outputs": [
    {
     "ename": "ValueError",
     "evalue": "operands could not be broadcast together with shapes (40,3) (30,3) ",
     "output_type": "error",
     "traceback": [
      "\u001b[0;31m---------------------------------------------------------------------------\u001b[0m",
      "\u001b[0;31mValueError\u001b[0m                                Traceback (most recent call last)",
      "\u001b[0;32m<ipython-input-56-f58bbccc18ac>\u001b[0m in \u001b[0;36m<module>\u001b[0;34m()\u001b[0m\n\u001b[0;32m----> 1\u001b[0;31m \u001b[0mps1\u001b[0m \u001b[1;33m+\u001b[0m \u001b[0mps2\u001b[0m\u001b[1;33m\u001b[0m\u001b[0m\n\u001b[0m",
      "\u001b[0;31mValueError\u001b[0m: operands could not be broadcast together with shapes (40,3) (30,3) "
     ]
    }
   ],
   "source": [
    "ps1 + ps2"
   ]
  },
  {
   "cell_type": "code",
   "execution_count": 2,
   "metadata": {
    "collapsed": false
   },
   "outputs": [
    {
     "data": {
      "text/plain": [
       "array([0.21353496, 0.69772295, 0.3034489 , 0.30413305, 0.15937635,\n",
       "       0.69822766, 0.52424429, 0.64268822, 0.76984718, 0.02097098])"
      ]
     },
     "execution_count": 2,
     "metadata": {},
     "output_type": "execute_result"
    }
   ],
   "source": [
    "ps1[0:10, 0]"
   ]
  },
  {
   "cell_type": "code",
   "execution_count": 3,
   "metadata": {
    "collapsed": false
   },
   "outputs": [
    {
     "data": {
      "text/plain": [
       "(40, 3)"
      ]
     },
     "execution_count": 3,
     "metadata": {},
     "output_type": "execute_result"
    }
   ],
   "source": [
    "ps1[:,:].shape #This doesn't change anything, just asks for everything"
   ]
  },
  {
   "cell_type": "code",
   "execution_count": 4,
   "metadata": {
    "collapsed": false
   },
   "outputs": [
    {
     "data": {
      "text/plain": [
       "((40, 1, 3), (1, 30, 3))"
      ]
     },
     "execution_count": 4,
     "metadata": {},
     "output_type": "execute_result"
    }
   ],
   "source": [
    "ps1[:, None, :].shape, ps2[None,:,:].shape #Insert a dimension of size one into the arrays"
   ]
  },
  {
   "cell_type": "code",
   "execution_count": 5,
   "metadata": {
    "collapsed": false
   },
   "outputs": [
    {
     "data": {
      "text/plain": [
       "(40, 30, 3)"
      ]
     },
     "execution_count": 5,
     "metadata": {},
     "output_type": "execute_result"
    }
   ],
   "source": [
    "disp_vec_mat = (ps1[:, None, :] - ps2[None,:,:]) #Magical operation\n",
    "disp_vec_mat.shape"
   ]
  },
  {
   "cell_type": "code",
   "execution_count": 6,
   "metadata": {
    "collapsed": false
   },
   "outputs": [
    {
     "data": {
      "text/plain": [
       "(40, 30)"
      ]
     },
     "execution_count": 6,
     "metadata": {},
     "output_type": "execute_result"
    }
   ],
   "source": [
    "dist_mat = np.sqrt((disp_vec_mat ** 2).sum(axis=-1))\n",
    "dist_mat.shape"
   ]
  },
  {
   "cell_type": "code",
   "execution_count": 7,
   "metadata": {
    "collapsed": false
   },
   "outputs": [
    {
     "name": "stdout",
     "output_type": "stream",
     "text": [
      "5\n",
      "13\n"
     ]
    }
   ],
   "source": [
    "#minimum distance is:\n",
    "print(dist_mat.argmin(0).argmin())\n",
    "print(dist_mat.argmin(1).argmin())"
   ]
  },
  {
   "cell_type": "markdown",
   "metadata": {},
   "source": [
    "# Broadcasting"
   ]
  },
  {
   "cell_type": "code",
   "execution_count": 8,
   "metadata": {
    "collapsed": false
   },
   "outputs": [
    {
     "data": {
      "text/plain": [
       "(8, 2)"
      ]
     },
     "execution_count": 8,
     "metadata": {},
     "output_type": "execute_result"
    }
   ],
   "source": [
    "arr = np.arange(16).reshape(8,2)\n",
    "arr.shape"
   ]
  },
  {
   "cell_type": "code",
   "execution_count": 9,
   "metadata": {
    "collapsed": false
   },
   "outputs": [
    {
     "data": {
      "text/plain": [
       "(1,)"
      ]
     },
     "execution_count": 9,
     "metadata": {},
     "output_type": "execute_result"
    }
   ],
   "source": [
    "const = np.array([2])\n",
    "const.shape"
   ]
  },
  {
   "cell_type": "code",
   "execution_count": 10,
   "metadata": {
    "collapsed": false
   },
   "outputs": [
    {
     "data": {
      "text/plain": [
       "(8, 2)"
      ]
     },
     "execution_count": 10,
     "metadata": {},
     "output_type": "execute_result"
    }
   ],
   "source": [
    "(arr + const).shape"
   ]
  },
  {
   "cell_type": "code",
   "execution_count": 11,
   "metadata": {
    "collapsed": false
   },
   "outputs": [
    {
     "data": {
      "text/plain": [
       "(2,)"
      ]
     },
     "execution_count": 11,
     "metadata": {},
     "output_type": "execute_result"
    }
   ],
   "source": [
    "vec = np.array([3,4])\n",
    "vec.shape"
   ]
  },
  {
   "cell_type": "code",
   "execution_count": 12,
   "metadata": {
    "collapsed": false
   },
   "outputs": [
    {
     "data": {
      "text/plain": [
       "array([[ 3,  5],\n",
       "       [ 5,  7],\n",
       "       [ 7,  9],\n",
       "       [ 9, 11],\n",
       "       [11, 13],\n",
       "       [13, 15],\n",
       "       [15, 17],\n",
       "       [17, 19]])"
      ]
     },
     "execution_count": 12,
     "metadata": {},
     "output_type": "execute_result"
    }
   ],
   "source": [
    "arr + vec #makes sense"
   ]
  },
  {
   "cell_type": "code",
   "execution_count": 13,
   "metadata": {
    "collapsed": true
   },
   "outputs": [
    {
     "ename": "ValueError",
     "evalue": "operands could not be broadcast together with shapes (8,2) (3,) ",
     "output_type": "error",
     "traceback": [
      "\u001b[0;31m---------------------------------------------------------------------------\u001b[0m",
      "\u001b[0;31mValueError\u001b[0m                                Traceback (most recent call last)",
      "\u001b[0;32m<ipython-input-13-1b6caa878c32>\u001b[0m in \u001b[0;36m<module>\u001b[0;34m()\u001b[0m\n\u001b[0;32m----> 1\u001b[0;31m \u001b[0marr\u001b[0m \u001b[1;33m+\u001b[0m \u001b[0mnp\u001b[0m\u001b[1;33m.\u001b[0m\u001b[0marray\u001b[0m\u001b[1;33m(\u001b[0m\u001b[1;33m[\u001b[0m\u001b[1;36m1\u001b[0m\u001b[1;33m,\u001b[0m\u001b[1;36m2\u001b[0m\u001b[1;33m,\u001b[0m\u001b[1;36m3\u001b[0m\u001b[1;33m]\u001b[0m\u001b[1;33m)\u001b[0m\u001b[1;33m\u001b[0m\u001b[0m\n\u001b[0m",
      "\u001b[0;31mValueError\u001b[0m: operands could not be broadcast together with shapes (8,2) (3,) "
     ]
    }
   ],
   "source": [
    "arr + np.array([1,2,3])"
   ]
  },
  {
   "cell_type": "code",
   "execution_count": 14,
   "metadata": {
    "collapsed": false
   },
   "outputs": [
    {
     "name": "stdout",
     "output_type": "stream",
     "text": [
      "10 loops, best of 3: 62.8 µs per loop\n"
     ]
    }
   ],
   "source": [
    "def broacast_op(arr1, arr2):\n",
    "    return np.sqrt( ((arr1[:,None,:] - arr2[None,:,:])**2).sum(axis=-1) )\n",
    "\n",
    "%timeit -n10 broacast_op(ps1, ps2)"
   ]
  },
  {
   "cell_type": "code",
   "execution_count": 15,
   "metadata": {
    "collapsed": false
   },
   "outputs": [
    {
     "name": "stdout",
     "output_type": "stream",
     "text": [
      "The slowest run took 2172.88 times longer than the fastest. This could mean that an intermediate result is being cached.\n",
      "10 loops, best of 3: 72.7 µs per loop\n"
     ]
    }
   ],
   "source": [
    "import numba\n",
    "broadcast_op_numb = numba.jit(broacast_op)\n",
    "\n",
    "%timeit -n10 broadcast_op_numb(ps1, ps2)"
   ]
  },
  {
   "cell_type": "code",
   "execution_count": null,
   "metadata": {
    "collapsed": true
   },
   "outputs": [],
   "source": []
  }
 ],
 "metadata": {
  "anaconda-cloud": {},
  "kernelspec": {
   "display_name": "Python [default]",
   "language": "python",
   "name": "python3"
  },
  "language_info": {
   "codemirror_mode": {
    "name": "ipython",
    "version": 3
   },
   "file_extension": ".py",
   "mimetype": "text/x-python",
   "name": "python",
   "nbconvert_exporter": "python",
   "pygments_lexer": "ipython3",
   "version": "3.5.2"
  }
 },
 "nbformat": 4,
 "nbformat_minor": 2
}
