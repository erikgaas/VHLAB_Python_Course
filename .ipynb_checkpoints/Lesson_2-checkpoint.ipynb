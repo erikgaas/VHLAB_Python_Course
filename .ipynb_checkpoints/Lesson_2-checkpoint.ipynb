{
 "cells": [
  {
   "cell_type": "markdown",
   "metadata": {},
   "source": [
    "# Jupyter Notebook"
   ]
  },
  {
   "cell_type": "markdown",
   "metadata": {},
   "source": [
    "Jupyter is just a wrapper for Python code. It comes with a lot of convenience tools though. There are two main modes which you can be in:\n",
    "    - Edit mode: Typing code or markdown,\n",
    "    - Command mode: where you can select cells and run them"
   ]
  },
  {
   "cell_type": "markdown",
   "metadata": {},
   "source": [
    "Every jupyter session starts fresh. So you can run cells when you open the notebook. You can either run each individually by pressing SHIFT+Enter on the highlighted cell, or run all cells. The cell tab at the top gives you these options. Expore the options in the tab, there are not many of them, but they will be used often enough"
   ]
  },
  {
   "cell_type": "markdown",
   "metadata": {},
   "source": [
    "# Numpy"
   ]
  },
  {
   "cell_type": "markdown",
   "metadata": {},
   "source": [
    "Numpy is the core of fast matrix computing in Python. Lists in python are too slow to do lots of math with. Numpy save data in contiguous memory and uses a fast C++ backend to make everything fast. As an example we will use Jorge's problem of finding the closest point between to point sets."
   ]
  },
  {
   "cell_type": "code",
   "execution_count": 54,
   "metadata": {
    "collapsed": true
   },
   "outputs": [],
   "source": [
    "#Here we want to go into a file and munge out the data\n",
    "#We can do calculations in raw python first as well and time it.\n",
    "\n"
   ]
  },
  {
   "cell_type": "code",
   "execution_count": 1,
   "metadata": {
    "collapsed": false
   },
   "outputs": [
    {
     "data": {
      "text/plain": [
       "array([[0.21353496, 0.3834453 , 0.56432614],\n",
       "       [0.69772295, 0.39672954, 0.2747583 ],\n",
       "       [0.3034489 , 0.41751568, 0.69772927],\n",
       "       [0.30413305, 0.67913954, 0.37630028],\n",
       "       [0.15937635, 0.40533564, 0.97341271],\n",
       "       [0.69822766, 0.95237304, 0.49655389],\n",
       "       [0.52424429, 0.52050969, 0.15214705],\n",
       "       [0.64268822, 0.77106205, 0.23334826],\n",
       "       [0.76984718, 0.90613019, 0.66798594],\n",
       "       [0.02097098, 0.10248472, 0.35366696],\n",
       "       [0.30289593, 0.68625763, 0.98727945],\n",
       "       [0.69270558, 0.50318029, 0.40569417],\n",
       "       [0.57050612, 0.01199752, 0.73033142],\n",
       "       [0.40833829, 0.96199326, 0.9340937 ],\n",
       "       [0.77476349, 0.92064619, 0.30979368],\n",
       "       [0.71643566, 0.13264324, 0.93598299],\n",
       "       [0.89097785, 0.9849063 , 0.55294764],\n",
       "       [0.28109038, 0.37466919, 0.00901289],\n",
       "       [0.62930505, 0.18521589, 0.29459521],\n",
       "       [0.75078031, 0.88621428, 0.01533064],\n",
       "       [0.25550922, 0.30569632, 0.68970241],\n",
       "       [0.58248162, 0.11384877, 0.67044518],\n",
       "       [0.78936591, 0.5090875 , 0.19826817],\n",
       "       [0.77004809, 0.54082991, 0.35801121],\n",
       "       [0.13033288, 0.71564562, 0.73903835],\n",
       "       [0.48753521, 0.00254113, 0.01054102],\n",
       "       [0.57446014, 0.66560441, 0.87358285],\n",
       "       [0.96463085, 0.12240751, 0.98261043],\n",
       "       [0.26948677, 0.70795767, 0.58772505],\n",
       "       [0.16049005, 0.90084053, 0.51924465],\n",
       "       [0.49993102, 0.27379444, 0.70404962],\n",
       "       [0.70566701, 0.60043639, 0.73351586],\n",
       "       [0.88926485, 0.38380912, 0.40216195],\n",
       "       [0.00628465, 0.26656049, 0.00803897],\n",
       "       [0.89947997, 0.27490439, 0.55544246],\n",
       "       [0.84737506, 0.27159918, 0.34456532],\n",
       "       [0.74734031, 0.07325166, 0.65392816],\n",
       "       [0.76358472, 0.34819171, 0.70066574],\n",
       "       [0.49669446, 0.72353608, 0.33836299],\n",
       "       [0.24339129, 0.57969496, 0.04459058]])"
      ]
     },
     "execution_count": 1,
     "metadata": {},
     "output_type": "execute_result"
    }
   ],
   "source": [
    "import numpy as np\n",
    "ps1 = np.random.random((40,3))\n",
    "ps2 = np.random.random((30,3))\n",
    "\n",
    "ps1"
   ]
  },
  {
   "cell_type": "code",
   "execution_count": 56,
   "metadata": {
    "collapsed": false
   },
   "outputs": [
    {
     "ename": "ValueError",
     "evalue": "operands could not be broadcast together with shapes (40,3) (30,3) ",
     "output_type": "error",
     "traceback": [
      "\u001b[0;31m---------------------------------------------------------------------------\u001b[0m",
      "\u001b[0;31mValueError\u001b[0m                                Traceback (most recent call last)",
      "\u001b[0;32m<ipython-input-56-f58bbccc18ac>\u001b[0m in \u001b[0;36m<module>\u001b[0;34m()\u001b[0m\n\u001b[0;32m----> 1\u001b[0;31m \u001b[0mps1\u001b[0m \u001b[1;33m+\u001b[0m \u001b[0mps2\u001b[0m\u001b[1;33m\u001b[0m\u001b[0m\n\u001b[0m",
      "\u001b[0;31mValueError\u001b[0m: operands could not be broadcast together with shapes (40,3) (30,3) "
     ]
    }
   ],
   "source": [
    "ps1 + ps2"
   ]
  },
  {
   "cell_type": "code",
   "execution_count": 2,
   "metadata": {
    "collapsed": false
   },
   "outputs": [
    {
     "data": {
      "text/plain": [
       "array([0.21353496, 0.69772295, 0.3034489 , 0.30413305, 0.15937635,\n",
       "       0.69822766, 0.52424429, 0.64268822, 0.76984718, 0.02097098])"
      ]
     },
     "execution_count": 2,
     "metadata": {},
     "output_type": "execute_result"
    }
   ],
   "source": [
    "ps1[0:10, 0]"
   ]
  },
  {
   "cell_type": "code",
   "execution_count": 3,
   "metadata": {
    "collapsed": false
   },
   "outputs": [
    {
     "data": {
      "text/plain": [
       "(40, 3)"
      ]
     },
     "execution_count": 3,
     "metadata": {},
     "output_type": "execute_result"
    }
   ],
   "source": [
    "ps1[:,:].shape #This doesn't change anything, just asks for everything"
   ]
  },
  {
   "cell_type": "code",
   "execution_count": 4,
   "metadata": {
    "collapsed": false
   },
   "outputs": [
    {
     "data": {
      "text/plain": [
       "((40, 1, 3), (1, 30, 3))"
      ]
     },
     "execution_count": 4,
     "metadata": {},
     "output_type": "execute_result"
    }
   ],
   "source": [
    "ps1[:, None, :].shape, ps2[None,:,:].shape #Insert a dimension of size one into the arrays"
   ]
  },
  {
   "cell_type": "code",
   "execution_count": 5,
   "metadata": {
    "collapsed": false
   },
   "outputs": [
    {
     "data": {
      "text/plain": [
       "(40, 30, 3)"
      ]
     },
     "execution_count": 5,
     "metadata": {},
     "output_type": "execute_result"
    }
   ],
   "source": [
    "disp_vec_mat = (ps1[:, None, :] - ps2[None,:,:]) #Magical operation\n",
    "disp_vec_mat.shape"
   ]
  },
  {
   "cell_type": "code",
   "execution_count": 6,
   "metadata": {
    "collapsed": false
   },
   "outputs": [
    {
     "data": {
      "text/plain": [
       "(40, 30)"
      ]
     },
     "execution_count": 6,
     "metadata": {},
     "output_type": "execute_result"
    }
   ],
   "source": [
    "dist_mat = np.sqrt((disp_vec_mat ** 2).sum(axis=-1))\n",
    "dist_mat.shape"
   ]
  },
  {
   "cell_type": "code",
   "execution_count": 7,
   "metadata": {
    "collapsed": false
   },
   "outputs": [
    {
     "name": "stdout",
     "output_type": "stream",
     "text": [
      "5\n",
      "13\n"
     ]
    }
   ],
   "source": [
    "#minimum distance is:\n",
    "print(dist_mat.argmin(0).argmin())\n",
    "print(dist_mat.argmin(1).argmin())"
   ]
  },
  {
   "cell_type": "markdown",
   "metadata": {},
   "source": [
    "# Broadcasting"
   ]
  },
  {
   "cell_type": "code",
   "execution_count": 8,
   "metadata": {
    "collapsed": false
   },
   "outputs": [
    {
     "data": {
      "text/plain": [
       "(8, 2)"
      ]
     },
     "execution_count": 8,
     "metadata": {},
     "output_type": "execute_result"
    }
   ],
   "source": [
    "arr = np.arange(16).reshape(8,2)\n",
    "arr.shape"
   ]
  },
  {
   "cell_type": "code",
   "execution_count": 9,
   "metadata": {
    "collapsed": false
   },
   "outputs": [
    {
     "data": {
      "text/plain": [
       "(1,)"
      ]
     },
     "execution_count": 9,
     "metadata": {},
     "output_type": "execute_result"
    }
   ],
   "source": [
    "const = np.array([2])\n",
    "const.shape"
   ]
  },
  {
   "cell_type": "code",
   "execution_count": 10,
   "metadata": {
    "collapsed": false
   },
   "outputs": [
    {
     "data": {
      "text/plain": [
       "(8, 2)"
      ]
     },
     "execution_count": 10,
     "metadata": {},
     "output_type": "execute_result"
    }
   ],
   "source": [
    "(arr + const).shape"
   ]
  },
  {
   "cell_type": "code",
   "execution_count": 11,
   "metadata": {
    "collapsed": false
   },
   "outputs": [
    {
     "data": {
      "text/plain": [
       "(2,)"
      ]
     },
     "execution_count": 11,
     "metadata": {},
     "output_type": "execute_result"
    }
   ],
   "source": [
    "vec = np.array([3,4])\n",
    "vec.shape"
   ]
  },
  {
   "cell_type": "code",
   "execution_count": 12,
   "metadata": {
    "collapsed": false
   },
   "outputs": [
    {
     "data": {
      "text/plain": [
       "array([[ 3,  5],\n",
       "       [ 5,  7],\n",
       "       [ 7,  9],\n",
       "       [ 9, 11],\n",
       "       [11, 13],\n",
       "       [13, 15],\n",
       "       [15, 17],\n",
       "       [17, 19]])"
      ]
     },
     "execution_count": 12,
     "metadata": {},
     "output_type": "execute_result"
    }
   ],
   "source": [
    "arr + vec #makes sense"
   ]
  },
  {
   "cell_type": "code",
   "execution_count": 13,
   "metadata": {
    "collapsed": true
   },
   "outputs": [
    {
     "ename": "ValueError",
     "evalue": "operands could not be broadcast together with shapes (8,2) (3,) ",
     "output_type": "error",
     "traceback": [
      "\u001b[0;31m---------------------------------------------------------------------------\u001b[0m",
      "\u001b[0;31mValueError\u001b[0m                                Traceback (most recent call last)",
      "\u001b[0;32m<ipython-input-13-1b6caa878c32>\u001b[0m in \u001b[0;36m<module>\u001b[0;34m()\u001b[0m\n\u001b[0;32m----> 1\u001b[0;31m \u001b[0marr\u001b[0m \u001b[1;33m+\u001b[0m \u001b[0mnp\u001b[0m\u001b[1;33m.\u001b[0m\u001b[0marray\u001b[0m\u001b[1;33m(\u001b[0m\u001b[1;33m[\u001b[0m\u001b[1;36m1\u001b[0m\u001b[1;33m,\u001b[0m\u001b[1;36m2\u001b[0m\u001b[1;33m,\u001b[0m\u001b[1;36m3\u001b[0m\u001b[1;33m]\u001b[0m\u001b[1;33m)\u001b[0m\u001b[1;33m\u001b[0m\u001b[0m\n\u001b[0m",
      "\u001b[0;31mValueError\u001b[0m: operands could not be broadcast together with shapes (8,2) (3,) "
     ]
    }
   ],
   "source": [
    "arr + np.array([1,2,3])"
   ]
  },
  {
   "cell_type": "code",
   "execution_count": 14,
   "metadata": {
    "collapsed": false
   },
   "outputs": [
    {
     "name": "stdout",
     "output_type": "stream",
     "text": [
      "10 loops, best of 3: 62.8 µs per loop\n"
     ]
    }
   ],
   "source": [
    "def broacast_op(arr1, arr2):\n",
    "    return np.sqrt( ((arr1[:,None,:] - arr2[None,:,:])**2).sum(axis=-1) )\n",
    "\n",
    "%timeit -n10 broacast_op(ps1, ps2)"
   ]
  },
  {
   "cell_type": "code",
   "execution_count": 15,
   "metadata": {
    "collapsed": false
   },
   "outputs": [
    {
     "name": "stdout",
     "output_type": "stream",
     "text": [
      "The slowest run took 2172.88 times longer than the fastest. This could mean that an intermediate result is being cached.\n",
      "10 loops, best of 3: 72.7 µs per loop\n"
     ]
    }
   ],
   "source": [
    "import numba\n",
    "broadcast_op_numb = numba.jit(broacast_op)\n",
    "\n",
    "%timeit -n10 broadcast_op_numb(ps1, ps2)"
   ]
  },
  {
   "cell_type": "code",
   "execution_count": null,
   "metadata": {
    "collapsed": true
   },
   "outputs": [],
   "source": []
  }
 ],
 "metadata": {
  "anaconda-cloud": {},
  "kernelspec": {
   "display_name": "Python [default]",
   "language": "python",
   "name": "python3"
  },
  "language_info": {
   "codemirror_mode": {
    "name": "ipython",
    "version": 3
   },
   "file_extension": ".py",
   "mimetype": "text/x-python",
   "name": "python",
   "nbconvert_exporter": "python",
   "pygments_lexer": "ipython3",
   "version": "3.5.2"
  }
 },
 "nbformat": 4,
 "nbformat_minor": 2
}
