{
 "cells": [
  {
   "cell_type": "markdown",
   "metadata": {},
   "source": [
    "# Python Basics"
   ]
  },
  {
   "cell_type": "markdown",
   "metadata": {},
   "source": [
    "Every programming language needs its basic datatypes. In Python it is pretty straight forward. You will tyically only every care about numbers and text. For now we will ignore that we already know that everything is an object. For now let's have a brief overview of the basic datatypes."
   ]
  },
  {
   "cell_type": "code",
   "execution_count": 2,
   "metadata": {
    "collapsed": false
   },
   "outputs": [
    {
     "data": {
      "text/plain": [
       "'If I care about multiple lines,\\nI can have them with triple quotes'"
      ]
     },
     "execution_count": 2,
     "metadata": {},
     "output_type": "execute_result"
    }
   ],
   "source": [
    "#Text\n",
    "\"Hello World\"\n",
    "\n",
    "'This is a string'\n",
    "\n",
    "'I can make a string as long as I want it to be.'\n",
    "\n",
    "\"\"\"If I care about multiple lines,\n",
    "I can have them with triple quotes\"\"\"\n",
    "\n",
    "#Double and single quotes are equivalent, you can choose either.\n",
    "#Except you can use a single quote within a double quote and vice versa\n",
    "\n",
    "#Notice how Jupyter notebook displays the last thing returned in the cell.\n",
    "#Will will talk much more about this development environment later."
   ]
  },
  {
   "cell_type": "code",
   "execution_count": 23,
   "metadata": {
    "collapsed": false
   },
   "outputs": [
    {
     "data": {
      "text/plain": [
       "'Hello World'"
      ]
     },
     "execution_count": 23,
     "metadata": {},
     "output_type": "execute_result"
    }
   ],
   "source": [
    "#We can add two strings together using the + symbol\n",
    "#The + symbol can be used for a lot of things in python\n",
    "#This is called an overloaded method/operator.\n",
    "#We can't do subtraction because it isn't obivous what that would mean.\n",
    "\"Hello \" + \"World\""
   ]
  },
  {
   "cell_type": "code",
   "execution_count": 4,
   "metadata": {
    "collapsed": false
   },
   "outputs": [
    {
     "data": {
      "text/plain": [
       "1e+37"
      ]
     },
     "execution_count": 4,
     "metadata": {},
     "output_type": "execute_result"
    }
   ],
   "source": [
    "#Numbers\n",
    "1\n",
    "2\n",
    "3\n",
    "\n",
    "4.21\n",
    "3.14\n",
    "9999999999999999999999999999999999999.9999999999999999\n",
    "\n",
    "#Numbers can come as integers or as floating point numbers.\n",
    "#You don't have to worry about how big your number gets in standard python.\n",
    "#But for floating point numbers, you might want to keep an eye\n",
    "#on arithmetic involving floating point arithmetic"
   ]
  },
  {
   "cell_type": "code",
   "execution_count": 16,
   "metadata": {
    "collapsed": false
   },
   "outputs": [
    {
     "data": {
      "text/plain": [
       "6"
      ]
     },
     "execution_count": 16,
     "metadata": {},
     "output_type": "execute_result"
    }
   ],
   "source": [
    "#Mathematics works how you would expect\n",
    "2 + 4"
   ]
  },
  {
   "cell_type": "code",
   "execution_count": 17,
   "metadata": {
    "collapsed": false
   },
   "outputs": [
    {
     "data": {
      "text/plain": [
       "34.02"
      ]
     },
     "execution_count": 17,
     "metadata": {},
     "output_type": "execute_result"
    }
   ],
   "source": [
    "4.2 * 8.1"
   ]
  },
  {
   "cell_type": "code",
   "execution_count": 18,
   "metadata": {
    "collapsed": false
   },
   "outputs": [
    {
     "data": {
      "text/plain": [
       "2.3333333333333335"
      ]
     },
     "execution_count": 18,
     "metadata": {},
     "output_type": "execute_result"
    }
   ],
   "source": [
    "#Careful though, sometimes passing two integers\n",
    "#returns a float which matter sometimes.\n",
    "7 / 3"
   ]
  },
  {
   "cell_type": "code",
   "execution_count": 19,
   "metadata": {
    "collapsed": false
   },
   "outputs": [
    {
     "data": {
      "text/plain": [
       "2"
      ]
     },
     "execution_count": 19,
     "metadata": {},
     "output_type": "execute_result"
    }
   ],
   "source": [
    "#If we want this to round and just give us the divisor we can do this:\n",
    "7 // 3"
   ]
  },
  {
   "cell_type": "code",
   "execution_count": 5,
   "metadata": {
    "collapsed": false
   },
   "outputs": [
    {
     "data": {
      "text/plain": [
       "3"
      ]
     },
     "execution_count": 5,
     "metadata": {},
     "output_type": "execute_result"
    }
   ],
   "source": [
    "#Sometimes you want to convert a float to an int or an int to a float\n",
    "int(3.0)"
   ]
  },
  {
   "cell_type": "code",
   "execution_count": 6,
   "metadata": {
    "collapsed": false
   },
   "outputs": [
    {
     "data": {
      "text/plain": [
       "4.0"
      ]
     },
     "execution_count": 6,
     "metadata": {},
     "output_type": "execute_result"
    }
   ],
   "source": [
    "float(4)"
   ]
  },
  {
   "cell_type": "code",
   "execution_count": 7,
   "metadata": {
    "collapsed": false
   },
   "outputs": [
    {
     "data": {
      "text/plain": [
       "3"
      ]
     },
     "execution_count": 7,
     "metadata": {},
     "output_type": "execute_result"
    }
   ],
   "source": [
    "#Int will round if not given a proper integer.\n",
    "int(3.14)"
   ]
  },
  {
   "cell_type": "code",
   "execution_count": 12,
   "metadata": {
    "collapsed": false
   },
   "outputs": [
    {
     "data": {
      "text/plain": [
       "'3.12'"
      ]
     },
     "execution_count": 12,
     "metadata": {},
     "output_type": "execute_result"
    }
   ],
   "source": [
    "#We can also convert numbers to strings and strings to numbers\n",
    "str(3.12)"
   ]
  },
  {
   "cell_type": "code",
   "execution_count": 14,
   "metadata": {
    "collapsed": false
   },
   "outputs": [
    {
     "data": {
      "text/plain": [
       "5"
      ]
     },
     "execution_count": 14,
     "metadata": {},
     "output_type": "execute_result"
    }
   ],
   "source": [
    "#Note that functions like int, str, and float exist entirely in the global namespace\n",
    "#You do not need to import anything to use them. There are not many of these, and are\n",
    "#kind of a special case when working with Python.\n",
    "int(\"5\")"
   ]
  },
  {
   "cell_type": "markdown",
   "metadata": {},
   "source": [
    "# Methods on data"
   ]
  },
  {
   "cell_type": "markdown",
   "metadata": {},
   "source": [
    "Sometimes data comes with a bunch of methods we can use to convert it to something else. For strings we can do a lot of things: Capitalize, lowercase, shift characters, add spaces, etc. We can create some of these functions ourselves. "
   ]
  },
  {
   "cell_type": "code",
   "execution_count": 1,
   "metadata": {
    "collapsed": false
   },
   "outputs": [
    {
     "data": {
      "text/plain": [
       "'hello world'"
      ]
     },
     "execution_count": 1,
     "metadata": {},
     "output_type": "execute_result"
    }
   ],
   "source": [
    "\"HELLO WORLD\".lower()"
   ]
  },
  {
   "cell_type": "code",
   "execution_count": 2,
   "metadata": {
    "collapsed": false
   },
   "outputs": [
    {
     "data": {
      "text/plain": [
       "'THIS IS ALL LOWER CASE, BUT NOT FOR LONG'"
      ]
     },
     "execution_count": 2,
     "metadata": {},
     "output_type": "execute_result"
    }
   ],
   "source": [
    "\"this is all lower case, but not for long\".upper()"
   ]
  },
  {
   "cell_type": "markdown",
   "metadata": {},
   "source": [
    "If we want to be able to see all methods associated with a particular datatype in vanilla python, we can call the dir function to see all of them."
   ]
  },
  {
   "cell_type": "code",
   "execution_count": 3,
   "metadata": {
    "collapsed": false,
    "scrolled": true
   },
   "outputs": [
    {
     "data": {
      "text/plain": [
       "['__add__',\n",
       " '__class__',\n",
       " '__contains__',\n",
       " '__delattr__',\n",
       " '__dir__',\n",
       " '__doc__',\n",
       " '__eq__',\n",
       " '__format__',\n",
       " '__ge__',\n",
       " '__getattribute__',\n",
       " '__getitem__',\n",
       " '__getnewargs__',\n",
       " '__gt__',\n",
       " '__hash__',\n",
       " '__init__',\n",
       " '__init_subclass__',\n",
       " '__iter__',\n",
       " '__le__',\n",
       " '__len__',\n",
       " '__lt__',\n",
       " '__mod__',\n",
       " '__mul__',\n",
       " '__ne__',\n",
       " '__new__',\n",
       " '__reduce__',\n",
       " '__reduce_ex__',\n",
       " '__repr__',\n",
       " '__rmod__',\n",
       " '__rmul__',\n",
       " '__setattr__',\n",
       " '__sizeof__',\n",
       " '__str__',\n",
       " '__subclasshook__',\n",
       " 'capitalize',\n",
       " 'casefold',\n",
       " 'center',\n",
       " 'count',\n",
       " 'encode',\n",
       " 'endswith',\n",
       " 'expandtabs',\n",
       " 'find',\n",
       " 'format',\n",
       " 'format_map',\n",
       " 'index',\n",
       " 'isalnum',\n",
       " 'isalpha',\n",
       " 'isdecimal',\n",
       " 'isdigit',\n",
       " 'isidentifier',\n",
       " 'islower',\n",
       " 'isnumeric',\n",
       " 'isprintable',\n",
       " 'isspace',\n",
       " 'istitle',\n",
       " 'isupper',\n",
       " 'join',\n",
       " 'ljust',\n",
       " 'lower',\n",
       " 'lstrip',\n",
       " 'maketrans',\n",
       " 'partition',\n",
       " 'replace',\n",
       " 'rfind',\n",
       " 'rindex',\n",
       " 'rjust',\n",
       " 'rpartition',\n",
       " 'rsplit',\n",
       " 'rstrip',\n",
       " 'split',\n",
       " 'splitlines',\n",
       " 'startswith',\n",
       " 'strip',\n",
       " 'swapcase',\n",
       " 'title',\n",
       " 'translate',\n",
       " 'upper',\n",
       " 'zfill']"
      ]
     },
     "execution_count": 3,
     "metadata": {},
     "output_type": "execute_result"
    }
   ],
   "source": [
    "dir(\"hello world\")"
   ]
  },
  {
   "cell_type": "markdown",
   "metadata": {},
   "source": [
    "Jupyter has built in functions that allow us to quickly inspect these functions if we are interested. Again, we will look at this later, but if you find yourself needing to find a function that works in a particular way, going straight to the documentation is a good start. For instance, <a href=\"https://docs.python.org/2/library/string.html\">here is the link</a>  to the documentation on strings."
   ]
  },
  {
   "cell_type": "markdown",
   "metadata": {},
   "source": [
    "# Storing data"
   ]
  },
  {
   "cell_type": "markdown",
   "metadata": {},
   "source": [
    "The easiest way to store data is by assigning that data to variables."
   ]
  },
  {
   "cell_type": "code",
   "execution_count": 5,
   "metadata": {
    "collapsed": false
   },
   "outputs": [
    {
     "data": {
      "text/plain": [
       "8.14"
      ]
     },
     "execution_count": 5,
     "metadata": {},
     "output_type": "execute_result"
    }
   ],
   "source": [
    "a_variable = 3.14\n",
    "another_var = 5\n",
    "a_variable + another_var"
   ]
  },
  {
   "cell_type": "code",
   "execution_count": 9,
   "metadata": {
    "collapsed": false
   },
   "outputs": [
    {
     "data": {
      "text/plain": [
       "'hello world'"
      ]
     },
     "execution_count": 9,
     "metadata": {},
     "output_type": "execute_result"
    }
   ],
   "source": [
    "a_string_var = \"hello world\"\n",
    "a_string_var"
   ]
  },
  {
   "cell_type": "markdown",
   "metadata": {},
   "source": [
    "Sometimes in programming lanuages you would need to declare what type of data your variable will reference. (int string_var;) This would be useful because your computer can decide how much memory to allocate right away and make appropriate optimizations later. This is the major downside of Python as a programming language. It is slow and it is interpreted, making optimizations more difficult. However, the strength of Python comes from its readability and semantic organization. This makes it extremely good at being a \"glue\" language for optimized code written in other languages. This way you can get the benefit of having an \"easy to understand\" language with all of the benefit of running code with the lower level langauges."
   ]
  },
  {
   "cell_type": "markdown",
   "metadata": {},
   "source": [
    "Sometimes we can't just deal with variables to store all of our data. If we have a grocery list, it makes no sense to have a separate variable for each item. For this Python has a list datatype which can hold many pieces of smaller data."
   ]
  },
  {
   "cell_type": "code",
   "execution_count": 22,
   "metadata": {
    "collapsed": false
   },
   "outputs": [
    {
     "data": {
      "text/plain": [
       "['eggs', 'bread', 'milk', 'toast']"
      ]
     },
     "execution_count": 22,
     "metadata": {},
     "output_type": "execute_result"
    }
   ],
   "source": [
    "groc_ls = ['eggs', 'bread', 'milk', 'toast']\n",
    "groc_ls"
   ]
  },
  {
   "cell_type": "code",
   "execution_count": 24,
   "metadata": {
    "collapsed": true
   },
   "outputs": [],
   "source": [
    "#Some languages require languages to have all the same datatype. Python lists are super flexible.\n",
    "#Any element can be any datatype, including another list!\n",
    "#If we want to add an element to a list, we can use the append() method\n",
    "groc_ls.append('oranges')"
   ]
  },
  {
   "cell_type": "code",
   "execution_count": 25,
   "metadata": {
    "collapsed": false
   },
   "outputs": [
    {
     "data": {
      "text/plain": [
       "['eggs', 'bread', 'milk', 'toast', 'oranges']"
      ]
     },
     "execution_count": 25,
     "metadata": {},
     "output_type": "execute_result"
    }
   ],
   "source": [
    "groc_ls"
   ]
  },
  {
   "cell_type": "markdown",
   "metadata": {},
   "source": [
    "Notice how the .append method did not retern a value! It just modified the variable we already have. This is because a list is an immutable datatype. This is in contrast to a string which is not. We can create new strings with strings, but we cannot change the data represented by that variable. *Discus mutability here*"
   ]
  },
  {
   "cell_type": "code",
   "execution_count": 26,
   "metadata": {
    "collapsed": false
   },
   "outputs": [
    {
     "data": {
      "text/plain": [
       "('eggs', 'bread', 'milk', 'toast')"
      ]
     },
     "execution_count": 26,
     "metadata": {},
     "output_type": "execute_result"
    }
   ],
   "source": [
    "#The immutable equivalent of a list is a tuple. You can create it like this:\n",
    "groc_tup = ('eggs', 'bread', 'milk', 'toast')\n",
    "groc_tup"
   ]
  },
  {
   "cell_type": "code",
   "execution_count": 27,
   "metadata": {
    "collapsed": false
   },
   "outputs": [
    {
     "ename": "AttributeError",
     "evalue": "'tuple' object has no attribute 'append'",
     "output_type": "error",
     "traceback": [
      "\u001b[0;31m---------------------------------------------------------------------------\u001b[0m",
      "\u001b[0;31mAttributeError\u001b[0m                            Traceback (most recent call last)",
      "\u001b[0;32m<ipython-input-27-d136c45d89eb>\u001b[0m in \u001b[0;36m<module>\u001b[0;34m()\u001b[0m\n\u001b[1;32m      1\u001b[0m \u001b[1;31m#You will not be able to append to this:\u001b[0m\u001b[1;33m\u001b[0m\u001b[1;33m\u001b[0m\u001b[0m\n\u001b[0;32m----> 2\u001b[0;31m \u001b[0mgroc_tup\u001b[0m\u001b[1;33m.\u001b[0m\u001b[0mappend\u001b[0m\u001b[1;33m(\u001b[0m\u001b[1;34m'oranges'\u001b[0m\u001b[1;33m)\u001b[0m\u001b[1;33m\u001b[0m\u001b[0m\n\u001b[0m",
      "\u001b[0;31mAttributeError\u001b[0m: 'tuple' object has no attribute 'append'"
     ]
    }
   ],
   "source": [
    "#You will not be able to append to this:\n",
    "groc_tup.append('oranges')"
   ]
  },
  {
   "cell_type": "markdown",
   "metadata": {},
   "source": [
    "# Importance of \"objects\" in Python"
   ]
  },
  {
   "cell_type": "markdown",
   "metadata": {},
   "source": [
    "This brings up an extremely important concept in  Python and other programming langauges. Every datatype in Python is a type of object. Objects have a few important functions. They:\n",
    "    1. Store data for you in some form. (Think of this as the 'state' of an object)\n",
    "    2. Contain methods which allows you to return new values. (This can be the same datatype or a different datatype.)\n",
    "    3. Contain methods which change the state of the object.\n",
    "    \n",
    "We used an object in Lesson 0 when I made a MoneyTracker object. The state was the amount of money I made and the last price I bought the stock at. It contained only one method which both updated the state and returned the current earnings ratio."
   ]
  },
  {
   "cell_type": "code",
   "execution_count": 28,
   "metadata": {
    "collapsed": true
   },
   "outputs": [],
   "source": [
    "#A string never changes its state. You can only create new strings from data copied from it\n",
    "#A list can change states\n",
    "#We will discuss objects more in depth when we create our own objects."
   ]
  },
  {
   "cell_type": "markdown",
   "metadata": {},
   "source": [
    "# When to use these datatypes"
   ]
  },
  {
   "cell_type": "markdown",
   "metadata": {},
   "source": [
    "You may look at lists and think they would be good for storing values as a matrix. This is not really the case. Lists are good for grabing data that you want to stack. Lists are not good for fast matrix multiplication. If you want to do matrix multiplication you will hae to implement this logic yourself anyway. This is not useful"
   ]
  },
  {
   "cell_type": "code",
   "execution_count": 10,
   "metadata": {
    "collapsed": false
   },
   "outputs": [
    {
     "data": {
      "text/plain": [
       "['erik', 'lars', 'jorge', 'mikayle', 'david', 'emma']"
      ]
     },
     "execution_count": 10,
     "metadata": {},
     "output_type": "execute_result"
    }
   ],
   "source": [
    "#Lists are for keeping track of data\n",
    "phd_students = [\"erik\", \"lars\", \"jorge\", \"mikayle\", \"david\"]\n",
    "phd_students.append(\"emma\")\n",
    "phd_students"
   ]
  },
  {
   "cell_type": "code",
   "execution_count": 11,
   "metadata": {
    "collapsed": true
   },
   "outputs": [],
   "source": [
    "#Tuples are good for permenant data that will persist.\n",
    "erik = (\"Erik\", \"Gaasedelen\", 24, \"BICB\")\n",
    "lars = (\"Lars\", \"Mattison\", 42, \"BME\")"
   ]
  },
  {
   "cell_type": "markdown",
   "metadata": {},
   "source": [
    "# Dictonaries"
   ]
  },
  {
   "cell_type": "markdown",
   "metadata": {},
   "source": [
    "Dictionaries are a fantastic datatype. They allow the storage of key-value relations between data. Data can be retrieved with these keys in log time vs linear time for lists. Is nice if you have a key value relation of, for instance, DNA sequences and their counts within a genome. Key important concept: There are sometimes faster ways to store data."
   ]
  },
  {
   "cell_type": "code",
   "execution_count": 14,
   "metadata": {
    "collapsed": true
   },
   "outputs": [],
   "source": [
    "favorite_book_dict = {\"Erik\": \"Godel Escher Bach\", \"Lars\": \"Some running book\"}"
   ]
  },
  {
   "cell_type": "code",
   "execution_count": 15,
   "metadata": {
    "collapsed": false
   },
   "outputs": [
    {
     "data": {
      "text/plain": [
       "'Some running book'"
      ]
     },
     "execution_count": 15,
     "metadata": {},
     "output_type": "execute_result"
    }
   ],
   "source": [
    "favorite_book_dict[\"Lars\"]"
   ]
  },
  {
   "cell_type": "markdown",
   "metadata": {},
   "source": [
    "We can use anything we want as values in the dictionary, but keys are restrictive. We can only use keys that won't change/are immutable. tuples can be used as keys. lists cannot."
   ]
  },
  {
   "cell_type": "code",
   "execution_count": 17,
   "metadata": {
    "collapsed": true
   },
   "outputs": [],
   "source": [
    "favorite_book_dict = {erik: \"Godel Escher Bach\", lars: \"Some running book\"}"
   ]
  },
  {
   "cell_type": "code",
   "execution_count": 18,
   "metadata": {
    "collapsed": false
   },
   "outputs": [
    {
     "ename": "TypeError",
     "evalue": "unhashable type: 'list'",
     "output_type": "error",
     "traceback": [
      "\u001b[0;31m---------------------------------------------------------------------------\u001b[0m",
      "\u001b[0;31mTypeError\u001b[0m                                 Traceback (most recent call last)",
      "\u001b[0;32m<ipython-input-18-b5bd156e8084>\u001b[0m in \u001b[0;36m<module>\u001b[0;34m()\u001b[0m\n\u001b[0;32m----> 1\u001b[0;31m \u001b[0mfavorite_book_dict\u001b[0m\u001b[1;33m[\u001b[0m\u001b[0mphd_students\u001b[0m\u001b[1;33m]\u001b[0m \u001b[1;33m=\u001b[0m \u001b[1;34m\"Handbook of Cardiac Anatomy\"\u001b[0m\u001b[1;33m\u001b[0m\u001b[0m\n\u001b[0m",
      "\u001b[0;31mTypeError\u001b[0m: unhashable type: 'list'"
     ]
    }
   ],
   "source": [
    "favorite_book_dict[phd_students] = \"Handbook of Cardiac Anatomy\""
   ]
  },
  {
   "cell_type": "markdown",
   "metadata": {},
   "source": [
    "These are the most important datatypes in the standard Python library. More powerful datatypes in Python are either extensions of these ones and/or new objects backed by C++ functions to make them super fast."
   ]
  },
  {
   "cell_type": "markdown",
   "metadata": {},
   "source": [
    "# Control Flow"
   ]
  },
  {
   "cell_type": "code",
   "execution_count": 19,
   "metadata": {
    "collapsed": false
   },
   "outputs": [
    {
     "name": "stdout",
     "output_type": "stream",
     "text": [
      "sell\n"
     ]
    }
   ],
   "source": [
    "#if else statements\n",
    "#Tabs and colons signify blocks of code.\n",
    "curr_price = 10\n",
    "if curr_price > 8:\n",
    "    print(\"sell\")\n",
    "else:\n",
    "    print(\"hold\")"
   ]
  },
  {
   "cell_type": "code",
   "execution_count": null,
   "metadata": {
    "collapsed": true
   },
   "outputs": [],
   "source": [
    "#Adding elif statement\n",
    "if curr_price > 8:\n",
    "    print(\"sell\")\n",
    "elif curr_price < 4:\n",
    "    print(\"buy\")\n",
    "else:\n",
    "    print(\"hold\")"
   ]
  },
  {
   "cell_type": "code",
   "execution_count": 21,
   "metadata": {
    "collapsed": false
   },
   "outputs": [
    {
     "name": "stdout",
     "output_type": "stream",
     "text": [
      "0\n",
      "1\n",
      "2\n",
      "3\n",
      "4\n",
      "5\n",
      "6\n",
      "7\n",
      "8\n",
      "9\n"
     ]
    }
   ],
   "source": [
    "#Loops\n",
    "#A while loop simply continues until \n",
    "x = 0\n",
    "while x < 10:\n",
    "    print(x)\n",
    "    x += 1"
   ]
  },
  {
   "cell_type": "code",
   "execution_count": 22,
   "metadata": {
    "collapsed": false
   },
   "outputs": [
    {
     "name": "stdout",
     "output_type": "stream",
     "text": [
      "erik\n",
      "lars\n",
      "jorge\n",
      "mikayle\n",
      "david\n",
      "emma\n"
     ]
    }
   ],
   "source": [
    "#for loops iterate over an iterable. This can be a list or tuple for example\n",
    "for student in phd_students:\n",
    "    print(student)"
   ]
  },
  {
   "cell_type": "code",
   "execution_count": 23,
   "metadata": {
    "collapsed": false,
    "scrolled": true
   },
   "outputs": [
    {
     "name": "stdout",
     "output_type": "stream",
     "text": [
      "0\n",
      "1\n",
      "2\n",
      "3\n",
      "4\n",
      "5\n",
      "6\n",
      "7\n",
      "8\n",
      "9\n"
     ]
    }
   ],
   "source": [
    "#There is an important built in function called range which gives you numbers\n",
    "#up to but not including a number.\n",
    "for i in range(10):\n",
    "    print(i)"
   ]
  },
  {
   "cell_type": "code",
   "execution_count": 24,
   "metadata": {
    "collapsed": false
   },
   "outputs": [
    {
     "name": "stdout",
     "output_type": "stream",
     "text": [
      "5\n",
      "6\n",
      "7\n",
      "8\n",
      "9\n"
     ]
    }
   ],
   "source": [
    "for i in range(5,10):\n",
    "    print(i)"
   ]
  },
  {
   "cell_type": "markdown",
   "metadata": {},
   "source": [
    "# List comprehensions"
   ]
  },
  {
   "cell_type": "code",
   "execution_count": 25,
   "metadata": {
    "collapsed": false
   },
   "outputs": [
    {
     "data": {
      "text/plain": [
       "['ERIK', 'LARS', 'JORGE', 'MIKAYLE', 'DAVID', 'EMMA']"
      ]
     },
     "execution_count": 25,
     "metadata": {},
     "output_type": "execute_result"
    }
   ],
   "source": [
    "#Sometimes we want to perform an operation on every element of a list\n",
    "#We could do this in a for loop like this.\n",
    "upper_case_phds = []\n",
    "for student in phd_students:\n",
    "    upper_case_phds.append(student.upper())\n",
    "upper_case_phds"
   ]
  },
  {
   "cell_type": "code",
   "execution_count": 26,
   "metadata": {
    "collapsed": false
   },
   "outputs": [
    {
     "data": {
      "text/plain": [
       "['ERIK', 'LARS', 'JORGE', 'MIKAYLE', 'DAVID', 'EMMA']"
      ]
     },
     "execution_count": 26,
     "metadata": {},
     "output_type": "execute_result"
    }
   ],
   "source": [
    "#Or we could just do this all in one line:\n",
    "[student.upper() for student in phd_students]"
   ]
  },
  {
   "cell_type": "markdown",
   "metadata": {},
   "source": [
    "These are called list comprehensions and can be used to map or filter data. I use them a lot in everyday work."
   ]
  },
  {
   "cell_type": "markdown",
   "metadata": {},
   "source": [
    "# Functions"
   ]
  },
  {
   "cell_type": "code",
   "execution_count": 27,
   "metadata": {
    "collapsed": true
   },
   "outputs": [],
   "source": [
    "#Name the function, in this case \"hello\"\n",
    "#Give it arguments, in this case text\n",
    "#give a return statement to that function if you want it to return a value.\n",
    "def hello(text):\n",
    "    return \"hello \" + text"
   ]
  },
  {
   "cell_type": "code",
   "execution_count": 35,
   "metadata": {
    "collapsed": false
   },
   "outputs": [
    {
     "data": {
      "text/plain": [
       "'hello world'"
      ]
     },
     "execution_count": 35,
     "metadata": {},
     "output_type": "execute_result"
    }
   ],
   "source": [
    "my_text = hello(\"world\")\n",
    "my_text"
   ]
  },
  {
   "cell_type": "code",
   "execution_count": 36,
   "metadata": {
    "collapsed": false
   },
   "outputs": [
    {
     "data": {
      "text/plain": [
       "'hello world.'"
      ]
     },
     "execution_count": 36,
     "metadata": {},
     "output_type": "execute_result"
    }
   ],
   "source": [
    "#functions can be given named arguments with defaults\n",
    "def hello(text, punct=\".\"):\n",
    "    return \"hello \" + text + punct\n",
    "hello(\"world\")"
   ]
  },
  {
   "cell_type": "code",
   "execution_count": 37,
   "metadata": {
    "collapsed": false
   },
   "outputs": [
    {
     "data": {
      "text/plain": [
       "'hello world!'"
      ]
     },
     "execution_count": 37,
     "metadata": {},
     "output_type": "execute_result"
    }
   ],
   "source": [
    "hello(\"world\", \"!\")"
   ]
  },
  {
   "cell_type": "markdown",
   "metadata": {},
   "source": [
    "# Infamous Fizz Buzz Problem"
   ]
  },
  {
   "cell_type": "code",
   "execution_count": 38,
   "metadata": {
    "collapsed": true
   },
   "outputs": [],
   "source": [
    "#iterate from 0 to n. If you get to a multiple of three,\n",
    "#print fizz. If multiple of 5 print buzz.\n",
    "#If multiple of both, print FizzBuzz\n",
    "\n",
    "#Typical implementation\n",
    "def fizzbuzz(n):\n",
    "    for i in range(0,n):\n",
    "        #Notice the double equals here!!\n",
    "        #And we have introduced the modulus operator!\n",
    "        if i % 3 == 0 and i % 5 == 0:\n",
    "            print(\"FizzBuzz\")\n",
    "        elif i % 3 == 0:\n",
    "            print(\"Fizz\")\n",
    "        elif i % 5 == 0:\n",
    "            print(\"Buzz\")\n",
    "            "
   ]
  },
  {
   "cell_type": "code",
   "execution_count": 40,
   "metadata": {
    "collapsed": false
   },
   "outputs": [
    {
     "name": "stdout",
     "output_type": "stream",
     "text": [
      "FizzBuzz\n",
      "Fizz\n",
      "Buzz\n",
      "Fizz\n",
      "Fizz\n",
      "Buzz\n",
      "Fizz\n",
      "FizzBuzz\n"
     ]
    }
   ],
   "source": [
    "fizzbuzz(18)"
   ]
  },
  {
   "cell_type": "code",
   "execution_count": 42,
   "metadata": {
    "collapsed": true
   },
   "outputs": [],
   "source": [
    "#Alternate implementation\n",
    "def fizzbuzz(n):\n",
    "    for i in range(0,n):\n",
    "        out = \"\"\n",
    "        if i % 3 == 0:\n",
    "            out += \"Fizz\"\n",
    "        elif i % 5 == 0:\n",
    "            out += \"Buzz\"\n",
    "        if out != \"\":\n",
    "            print(i, out)"
   ]
  },
  {
   "cell_type": "code",
   "execution_count": 43,
   "metadata": {
    "collapsed": false
   },
   "outputs": [
    {
     "name": "stdout",
     "output_type": "stream",
     "text": [
      "0 Fizz\n",
      "3 Fizz\n",
      "5 Buzz\n",
      "6 Fizz\n",
      "9 Fizz\n",
      "10 Buzz\n",
      "12 Fizz\n",
      "15 Fizz\n",
      "18 Fizz\n"
     ]
    }
   ],
   "source": [
    "fizzbuzz(20)"
   ]
  },
  {
   "cell_type": "markdown",
   "metadata": {},
   "source": [
    "# Linking this all back up to objects."
   ]
  },
  {
   "cell_type": "code",
   "execution_count": 44,
   "metadata": {
    "collapsed": false
   },
   "outputs": [
    {
     "data": {
      "text/plain": [
       "['__abs__',\n",
       " '__add__',\n",
       " '__and__',\n",
       " '__bool__',\n",
       " '__ceil__',\n",
       " '__class__',\n",
       " '__delattr__',\n",
       " '__dir__',\n",
       " '__divmod__',\n",
       " '__doc__',\n",
       " '__eq__',\n",
       " '__float__',\n",
       " '__floor__',\n",
       " '__floordiv__',\n",
       " '__format__',\n",
       " '__ge__',\n",
       " '__getattribute__',\n",
       " '__getnewargs__',\n",
       " '__gt__',\n",
       " '__hash__',\n",
       " '__index__',\n",
       " '__init__',\n",
       " '__init_subclass__',\n",
       " '__int__',\n",
       " '__invert__',\n",
       " '__le__',\n",
       " '__lshift__',\n",
       " '__lt__',\n",
       " '__mod__',\n",
       " '__mul__',\n",
       " '__ne__',\n",
       " '__neg__',\n",
       " '__new__',\n",
       " '__or__',\n",
       " '__pos__',\n",
       " '__pow__',\n",
       " '__radd__',\n",
       " '__rand__',\n",
       " '__rdivmod__',\n",
       " '__reduce__',\n",
       " '__reduce_ex__',\n",
       " '__repr__',\n",
       " '__rfloordiv__',\n",
       " '__rlshift__',\n",
       " '__rmod__',\n",
       " '__rmul__',\n",
       " '__ror__',\n",
       " '__round__',\n",
       " '__rpow__',\n",
       " '__rrshift__',\n",
       " '__rshift__',\n",
       " '__rsub__',\n",
       " '__rtruediv__',\n",
       " '__rxor__',\n",
       " '__setattr__',\n",
       " '__sizeof__',\n",
       " '__str__',\n",
       " '__sub__',\n",
       " '__subclasshook__',\n",
       " '__truediv__',\n",
       " '__trunc__',\n",
       " '__xor__',\n",
       " 'bit_length',\n",
       " 'conjugate',\n",
       " 'denominator',\n",
       " 'from_bytes',\n",
       " 'imag',\n",
       " 'numerator',\n",
       " 'real',\n",
       " 'to_bytes']"
      ]
     },
     "execution_count": 44,
     "metadata": {},
     "output_type": "execute_result"
    }
   ],
   "source": [
    "#Numbers are objects:\n",
    "dir(5)"
   ]
  },
  {
   "cell_type": "code",
   "execution_count": 51,
   "metadata": {
    "collapsed": false
   },
   "outputs": [
    {
     "data": {
      "text/plain": [
       "11"
      ]
     },
     "execution_count": 51,
     "metadata": {},
     "output_type": "execute_result"
    }
   ],
   "source": [
    "(5).__add__(6)"
   ]
  },
  {
   "cell_type": "code",
   "execution_count": 53,
   "metadata": {
    "collapsed": false
   },
   "outputs": [
    {
     "data": {
      "text/plain": [
       "11"
      ]
     },
     "execution_count": 53,
     "metadata": {},
     "output_type": "execute_result"
    }
   ],
   "source": [
    "#Is the same as \n",
    "#Infix notation is arbitrary. It is syntactic sugar. Makes life easier for us.\n",
    "5 + 6"
   ]
  },
  {
   "cell_type": "code",
   "execution_count": 55,
   "metadata": {
    "collapsed": false
   },
   "outputs": [
    {
     "data": {
      "text/plain": [
       "['__add__',\n",
       " '__class__',\n",
       " '__contains__',\n",
       " '__delattr__',\n",
       " '__dir__',\n",
       " '__doc__',\n",
       " '__eq__',\n",
       " '__format__',\n",
       " '__ge__',\n",
       " '__getattribute__',\n",
       " '__getitem__',\n",
       " '__getnewargs__',\n",
       " '__gt__',\n",
       " '__hash__',\n",
       " '__init__',\n",
       " '__init_subclass__',\n",
       " '__iter__',\n",
       " '__le__',\n",
       " '__len__',\n",
       " '__lt__',\n",
       " '__mod__',\n",
       " '__mul__',\n",
       " '__ne__',\n",
       " '__new__',\n",
       " '__reduce__',\n",
       " '__reduce_ex__',\n",
       " '__repr__',\n",
       " '__rmod__',\n",
       " '__rmul__',\n",
       " '__setattr__',\n",
       " '__sizeof__',\n",
       " '__str__',\n",
       " '__subclasshook__',\n",
       " 'capitalize',\n",
       " 'casefold',\n",
       " 'center',\n",
       " 'count',\n",
       " 'encode',\n",
       " 'endswith',\n",
       " 'expandtabs',\n",
       " 'find',\n",
       " 'format',\n",
       " 'format_map',\n",
       " 'index',\n",
       " 'isalnum',\n",
       " 'isalpha',\n",
       " 'isdecimal',\n",
       " 'isdigit',\n",
       " 'isidentifier',\n",
       " 'islower',\n",
       " 'isnumeric',\n",
       " 'isprintable',\n",
       " 'isspace',\n",
       " 'istitle',\n",
       " 'isupper',\n",
       " 'join',\n",
       " 'ljust',\n",
       " 'lower',\n",
       " 'lstrip',\n",
       " 'maketrans',\n",
       " 'partition',\n",
       " 'replace',\n",
       " 'rfind',\n",
       " 'rindex',\n",
       " 'rjust',\n",
       " 'rpartition',\n",
       " 'rsplit',\n",
       " 'rstrip',\n",
       " 'split',\n",
       " 'splitlines',\n",
       " 'startswith',\n",
       " 'strip',\n",
       " 'swapcase',\n",
       " 'title',\n",
       " 'translate',\n",
       " 'upper',\n",
       " 'zfill']"
      ]
     },
     "execution_count": 55,
     "metadata": {},
     "output_type": "execute_result"
    }
   ],
   "source": [
    "#Strings also have lots of methods and properties\n",
    "dir(\"hello world\")"
   ]
  },
  {
   "cell_type": "code",
   "execution_count": 56,
   "metadata": {
    "collapsed": false
   },
   "outputs": [
    {
     "data": {
      "text/plain": [
       "['hello', 'world']"
      ]
     },
     "execution_count": 56,
     "metadata": {},
     "output_type": "execute_result"
    }
   ],
   "source": [
    "\"hello world\".split(\" \")"
   ]
  },
  {
   "cell_type": "code",
   "execution_count": 57,
   "metadata": {
    "collapsed": false
   },
   "outputs": [
    {
     "data": {
      "text/plain": [
       "['__add__',\n",
       " '__class__',\n",
       " '__contains__',\n",
       " '__delattr__',\n",
       " '__delitem__',\n",
       " '__dir__',\n",
       " '__doc__',\n",
       " '__eq__',\n",
       " '__format__',\n",
       " '__ge__',\n",
       " '__getattribute__',\n",
       " '__getitem__',\n",
       " '__gt__',\n",
       " '__hash__',\n",
       " '__iadd__',\n",
       " '__imul__',\n",
       " '__init__',\n",
       " '__init_subclass__',\n",
       " '__iter__',\n",
       " '__le__',\n",
       " '__len__',\n",
       " '__lt__',\n",
       " '__mul__',\n",
       " '__ne__',\n",
       " '__new__',\n",
       " '__reduce__',\n",
       " '__reduce_ex__',\n",
       " '__repr__',\n",
       " '__reversed__',\n",
       " '__rmul__',\n",
       " '__setattr__',\n",
       " '__setitem__',\n",
       " '__sizeof__',\n",
       " '__str__',\n",
       " '__subclasshook__',\n",
       " 'append',\n",
       " 'clear',\n",
       " 'copy',\n",
       " 'count',\n",
       " 'extend',\n",
       " 'index',\n",
       " 'insert',\n",
       " 'pop',\n",
       " 'remove',\n",
       " 'reverse',\n",
       " 'sort']"
      ]
     },
     "execution_count": 57,
     "metadata": {},
     "output_type": "execute_result"
    }
   ],
   "source": [
    "dir(phd_students)"
   ]
  },
  {
   "cell_type": "code",
   "execution_count": 58,
   "metadata": {
    "collapsed": false
   },
   "outputs": [
    {
     "data": {
      "text/plain": [
       "['david', 'emma', 'erik', 'jorge', 'lars', 'mikayle']"
      ]
     },
     "execution_count": 58,
     "metadata": {},
     "output_type": "execute_result"
    }
   ],
   "source": [
    "phd_students.sort()\n",
    "phd_students"
   ]
  },
  {
   "cell_type": "markdown",
   "metadata": {},
   "source": [
    "# Bring this back to Pandas and Numpy"
   ]
  },
  {
   "cell_type": "code",
   "execution_count": 61,
   "metadata": {
    "collapsed": true
   },
   "outputs": [],
   "source": [
    "import pandas as pd\n",
    "import numpy as np"
   ]
  },
  {
   "cell_type": "code",
   "execution_count": 63,
   "metadata": {
    "collapsed": false
   },
   "outputs": [],
   "source": [
    "rand_arr = np.random.random((10,10))"
   ]
  },
  {
   "cell_type": "code",
   "execution_count": 64,
   "metadata": {
    "collapsed": false
   },
   "outputs": [
    {
     "data": {
      "text/plain": [
       "array([[ 0.76598036,  0.26622801,  0.43621818,  0.60063919,  0.84231468,\n",
       "         0.60165801,  0.89937411,  0.65316596,  0.45493577,  0.7527959 ],\n",
       "       [ 0.79154838,  0.83279706,  0.76975161,  0.64443875,  0.6207478 ,\n",
       "         0.35726474,  0.63228952,  0.51628505,  0.37884777,  0.77639672],\n",
       "       [ 0.47253574,  0.77226709,  0.56979087,  0.46342519,  0.14438544,\n",
       "         0.80617961,  0.31326394,  0.6771264 ,  0.54470543,  0.00299075],\n",
       "       [ 0.71316539,  0.35161118,  0.68391696,  0.777979  ,  0.23839437,\n",
       "         0.30514391,  0.9521189 ,  0.71137207,  0.79573995,  0.10368874],\n",
       "       [ 0.81988098,  0.56896872,  0.08604797,  0.48410214,  0.97564305,\n",
       "         0.19172189,  0.95468184,  0.8427705 ,  0.46621043,  0.22498018],\n",
       "       [ 0.01409391,  0.52306012,  0.544521  ,  0.24866307,  0.59102704,\n",
       "         0.46277995,  0.68626431,  0.08469175,  0.87414915,  0.91124935],\n",
       "       [ 0.19746951,  0.60773579,  0.86827602,  0.8084157 ,  0.75030886,\n",
       "         0.51246248,  0.34268923,  0.45640236,  0.69460238,  0.78296125],\n",
       "       [ 0.65628478,  0.12236896,  0.53572243,  0.55420026,  0.56562   ,\n",
       "         0.37437576,  0.09010307,  0.90973638,  0.4060271 ,  0.57777829],\n",
       "       [ 0.8071032 ,  0.06831171,  0.1473094 ,  0.08243687,  0.7952946 ,\n",
       "         0.85385468,  0.09015511,  0.58414536,  0.9386555 ,  0.37147383],\n",
       "       [ 0.00310164,  0.72070257,  0.27333587,  0.44714557,  0.28832845,\n",
       "         0.60624479,  0.25773467,  0.71453001,  0.12938697,  0.42423273]])"
      ]
     },
     "execution_count": 64,
     "metadata": {},
     "output_type": "execute_result"
    }
   ],
   "source": [
    "rand_arr"
   ]
  },
  {
   "cell_type": "code",
   "execution_count": 67,
   "metadata": {
    "collapsed": false
   },
   "outputs": [
    {
     "data": {
      "text/plain": [
       "array([[ 0.76598036,  0.26622801,  0.43621818,  0.60063919,  0.84231468,\n",
       "         0.60165801,  0.89937411,  0.65316596,  0.45493577,  0.7527959 ],\n",
       "       [ 0.79154838,  0.83279706,  0.76975161,  0.64443875,  0.6207478 ,\n",
       "         0.35726474,  0.63228952,  0.51628505,  0.37884777,  0.77639672],\n",
       "       [ 0.47253574,  0.77226709,  0.56979087,  0.46342519,  0.14438544,\n",
       "         0.80617961,  0.31326394,  0.6771264 ,  0.54470543,  0.00299075],\n",
       "       [ 0.71316539,  0.35161118,  0.68391696,  0.777979  ,  0.23839437,\n",
       "         0.30514391,  0.9521189 ,  0.71137207,  0.79573995,  0.10368874],\n",
       "       [ 0.81988098,  0.56896872,  0.08604797,  0.48410214,  0.97564305,\n",
       "         0.19172189,  0.95468184,  0.8427705 ,  0.46621043,  0.22498018],\n",
       "       [ 0.01409391,  0.52306012,  0.544521  ,  0.24866307,  0.59102704,\n",
       "         0.46277995,  0.68626431,  0.08469175,  0.87414915,  0.91124935],\n",
       "       [ 0.19746951,  0.60773579,  0.86827602,  0.8084157 ,  0.75030886,\n",
       "         0.51246248,  0.34268923,  0.45640236,  0.69460238,  0.78296125],\n",
       "       [ 0.65628478,  0.12236896,  0.53572243,  0.55420026,  0.56562   ,\n",
       "         0.37437576,  0.09010307,  0.90973638,  0.4060271 ,  0.57777829],\n",
       "       [ 0.8071032 ,  0.06831171,  0.1473094 ,  0.08243687,  0.7952946 ,\n",
       "         0.85385468,  0.09015511,  0.58414536,  0.9386555 ,  0.37147383],\n",
       "       [ 0.00310164,  0.72070257,  0.27333587,  0.44714557,  0.28832845,\n",
       "         0.60624479,  0.25773467,  0.71453001,  0.12938697,  0.42423273]])"
      ]
     },
     "execution_count": 67,
     "metadata": {},
     "output_type": "execute_result"
    }
   ],
   "source": [
    "#Immutable by the way.\n",
    "rand_arr"
   ]
  },
  {
   "cell_type": "code",
   "execution_count": 69,
   "metadata": {
    "collapsed": false
   },
   "outputs": [
    {
     "data": {
      "text/html": [
       "<div>\n",
       "<style>\n",
       "    .dataframe thead tr:only-child th {\n",
       "        text-align: right;\n",
       "    }\n",
       "\n",
       "    .dataframe thead th {\n",
       "        text-align: left;\n",
       "    }\n",
       "\n",
       "    .dataframe tbody tr th {\n",
       "        vertical-align: top;\n",
       "    }\n",
       "</style>\n",
       "<table border=\"1\" class=\"dataframe\">\n",
       "  <thead>\n",
       "    <tr style=\"text-align: right;\">\n",
       "      <th></th>\n",
       "      <th>0</th>\n",
       "      <th>1</th>\n",
       "      <th>2</th>\n",
       "      <th>3</th>\n",
       "      <th>4</th>\n",
       "      <th>5</th>\n",
       "      <th>6</th>\n",
       "      <th>7</th>\n",
       "      <th>8</th>\n",
       "      <th>9</th>\n",
       "    </tr>\n",
       "  </thead>\n",
       "  <tbody>\n",
       "    <tr>\n",
       "      <th>0</th>\n",
       "      <td>0.765980</td>\n",
       "      <td>0.266228</td>\n",
       "      <td>0.436218</td>\n",
       "      <td>0.600639</td>\n",
       "      <td>0.842315</td>\n",
       "      <td>0.601658</td>\n",
       "      <td>0.899374</td>\n",
       "      <td>0.653166</td>\n",
       "      <td>0.454936</td>\n",
       "      <td>0.752796</td>\n",
       "    </tr>\n",
       "    <tr>\n",
       "      <th>1</th>\n",
       "      <td>0.791548</td>\n",
       "      <td>0.832797</td>\n",
       "      <td>0.769752</td>\n",
       "      <td>0.644439</td>\n",
       "      <td>0.620748</td>\n",
       "      <td>0.357265</td>\n",
       "      <td>0.632290</td>\n",
       "      <td>0.516285</td>\n",
       "      <td>0.378848</td>\n",
       "      <td>0.776397</td>\n",
       "    </tr>\n",
       "    <tr>\n",
       "      <th>2</th>\n",
       "      <td>0.472536</td>\n",
       "      <td>0.772267</td>\n",
       "      <td>0.569791</td>\n",
       "      <td>0.463425</td>\n",
       "      <td>0.144385</td>\n",
       "      <td>0.806180</td>\n",
       "      <td>0.313264</td>\n",
       "      <td>0.677126</td>\n",
       "      <td>0.544705</td>\n",
       "      <td>0.002991</td>\n",
       "    </tr>\n",
       "    <tr>\n",
       "      <th>3</th>\n",
       "      <td>0.713165</td>\n",
       "      <td>0.351611</td>\n",
       "      <td>0.683917</td>\n",
       "      <td>0.777979</td>\n",
       "      <td>0.238394</td>\n",
       "      <td>0.305144</td>\n",
       "      <td>0.952119</td>\n",
       "      <td>0.711372</td>\n",
       "      <td>0.795740</td>\n",
       "      <td>0.103689</td>\n",
       "    </tr>\n",
       "    <tr>\n",
       "      <th>4</th>\n",
       "      <td>0.819881</td>\n",
       "      <td>0.568969</td>\n",
       "      <td>0.086048</td>\n",
       "      <td>0.484102</td>\n",
       "      <td>0.975643</td>\n",
       "      <td>0.191722</td>\n",
       "      <td>0.954682</td>\n",
       "      <td>0.842771</td>\n",
       "      <td>0.466210</td>\n",
       "      <td>0.224980</td>\n",
       "    </tr>\n",
       "    <tr>\n",
       "      <th>5</th>\n",
       "      <td>0.014094</td>\n",
       "      <td>0.523060</td>\n",
       "      <td>0.544521</td>\n",
       "      <td>0.248663</td>\n",
       "      <td>0.591027</td>\n",
       "      <td>0.462780</td>\n",
       "      <td>0.686264</td>\n",
       "      <td>0.084692</td>\n",
       "      <td>0.874149</td>\n",
       "      <td>0.911249</td>\n",
       "    </tr>\n",
       "    <tr>\n",
       "      <th>6</th>\n",
       "      <td>0.197470</td>\n",
       "      <td>0.607736</td>\n",
       "      <td>0.868276</td>\n",
       "      <td>0.808416</td>\n",
       "      <td>0.750309</td>\n",
       "      <td>0.512462</td>\n",
       "      <td>0.342689</td>\n",
       "      <td>0.456402</td>\n",
       "      <td>0.694602</td>\n",
       "      <td>0.782961</td>\n",
       "    </tr>\n",
       "    <tr>\n",
       "      <th>7</th>\n",
       "      <td>0.656285</td>\n",
       "      <td>0.122369</td>\n",
       "      <td>0.535722</td>\n",
       "      <td>0.554200</td>\n",
       "      <td>0.565620</td>\n",
       "      <td>0.374376</td>\n",
       "      <td>0.090103</td>\n",
       "      <td>0.909736</td>\n",
       "      <td>0.406027</td>\n",
       "      <td>0.577778</td>\n",
       "    </tr>\n",
       "    <tr>\n",
       "      <th>8</th>\n",
       "      <td>0.807103</td>\n",
       "      <td>0.068312</td>\n",
       "      <td>0.147309</td>\n",
       "      <td>0.082437</td>\n",
       "      <td>0.795295</td>\n",
       "      <td>0.853855</td>\n",
       "      <td>0.090155</td>\n",
       "      <td>0.584145</td>\n",
       "      <td>0.938656</td>\n",
       "      <td>0.371474</td>\n",
       "    </tr>\n",
       "    <tr>\n",
       "      <th>9</th>\n",
       "      <td>0.003102</td>\n",
       "      <td>0.720703</td>\n",
       "      <td>0.273336</td>\n",
       "      <td>0.447146</td>\n",
       "      <td>0.288328</td>\n",
       "      <td>0.606245</td>\n",
       "      <td>0.257735</td>\n",
       "      <td>0.714530</td>\n",
       "      <td>0.129387</td>\n",
       "      <td>0.424233</td>\n",
       "    </tr>\n",
       "  </tbody>\n",
       "</table>\n",
       "</div>"
      ],
      "text/plain": [
       "          0         1         2         3         4         5         6  \\\n",
       "0  0.765980  0.266228  0.436218  0.600639  0.842315  0.601658  0.899374   \n",
       "1  0.791548  0.832797  0.769752  0.644439  0.620748  0.357265  0.632290   \n",
       "2  0.472536  0.772267  0.569791  0.463425  0.144385  0.806180  0.313264   \n",
       "3  0.713165  0.351611  0.683917  0.777979  0.238394  0.305144  0.952119   \n",
       "4  0.819881  0.568969  0.086048  0.484102  0.975643  0.191722  0.954682   \n",
       "5  0.014094  0.523060  0.544521  0.248663  0.591027  0.462780  0.686264   \n",
       "6  0.197470  0.607736  0.868276  0.808416  0.750309  0.512462  0.342689   \n",
       "7  0.656285  0.122369  0.535722  0.554200  0.565620  0.374376  0.090103   \n",
       "8  0.807103  0.068312  0.147309  0.082437  0.795295  0.853855  0.090155   \n",
       "9  0.003102  0.720703  0.273336  0.447146  0.288328  0.606245  0.257735   \n",
       "\n",
       "          7         8         9  \n",
       "0  0.653166  0.454936  0.752796  \n",
       "1  0.516285  0.378848  0.776397  \n",
       "2  0.677126  0.544705  0.002991  \n",
       "3  0.711372  0.795740  0.103689  \n",
       "4  0.842771  0.466210  0.224980  \n",
       "5  0.084692  0.874149  0.911249  \n",
       "6  0.456402  0.694602  0.782961  \n",
       "7  0.909736  0.406027  0.577778  \n",
       "8  0.584145  0.938656  0.371474  \n",
       "9  0.714530  0.129387  0.424233  "
      ]
     },
     "execution_count": 69,
     "metadata": {},
     "output_type": "execute_result"
    }
   ],
   "source": [
    "df = pd.DataFrame(rand_arr)\n",
    "df"
   ]
  },
  {
   "cell_type": "code",
   "execution_count": 70,
   "metadata": {
    "collapsed": false
   },
   "outputs": [
    {
     "data": {
      "text/plain": [
       "['T',\n",
       " '_AXIS_ALIASES',\n",
       " '_AXIS_IALIASES',\n",
       " '_AXIS_LEN',\n",
       " '_AXIS_NAMES',\n",
       " '_AXIS_NUMBERS',\n",
       " '_AXIS_ORDERS',\n",
       " '_AXIS_REVERSED',\n",
       " '_AXIS_SLICEMAP',\n",
       " '__abs__',\n",
       " '__add__',\n",
       " '__and__',\n",
       " '__array__',\n",
       " '__array_wrap__',\n",
       " '__bool__',\n",
       " '__bytes__',\n",
       " '__class__',\n",
       " '__contains__',\n",
       " '__copy__',\n",
       " '__deepcopy__',\n",
       " '__delattr__',\n",
       " '__delitem__',\n",
       " '__dict__',\n",
       " '__dir__',\n",
       " '__div__',\n",
       " '__doc__',\n",
       " '__eq__',\n",
       " '__finalize__',\n",
       " '__floordiv__',\n",
       " '__format__',\n",
       " '__ge__',\n",
       " '__getattr__',\n",
       " '__getattribute__',\n",
       " '__getitem__',\n",
       " '__getstate__',\n",
       " '__gt__',\n",
       " '__hash__',\n",
       " '__iadd__',\n",
       " '__imul__',\n",
       " '__init__',\n",
       " '__init_subclass__',\n",
       " '__invert__',\n",
       " '__ipow__',\n",
       " '__isub__',\n",
       " '__iter__',\n",
       " '__itruediv__',\n",
       " '__le__',\n",
       " '__len__',\n",
       " '__lt__',\n",
       " '__mod__',\n",
       " '__module__',\n",
       " '__mul__',\n",
       " '__ne__',\n",
       " '__neg__',\n",
       " '__new__',\n",
       " '__nonzero__',\n",
       " '__or__',\n",
       " '__pow__',\n",
       " '__radd__',\n",
       " '__rand__',\n",
       " '__rdiv__',\n",
       " '__reduce__',\n",
       " '__reduce_ex__',\n",
       " '__repr__',\n",
       " '__rfloordiv__',\n",
       " '__rmod__',\n",
       " '__rmul__',\n",
       " '__ror__',\n",
       " '__round__',\n",
       " '__rpow__',\n",
       " '__rsub__',\n",
       " '__rtruediv__',\n",
       " '__rxor__',\n",
       " '__setattr__',\n",
       " '__setitem__',\n",
       " '__setstate__',\n",
       " '__sizeof__',\n",
       " '__str__',\n",
       " '__sub__',\n",
       " '__subclasshook__',\n",
       " '__truediv__',\n",
       " '__unicode__',\n",
       " '__weakref__',\n",
       " '__xor__',\n",
       " '_accessors',\n",
       " '_add_numeric_operations',\n",
       " '_add_series_only_operations',\n",
       " '_add_series_or_dataframe_operations',\n",
       " '_agg_by_level',\n",
       " '_agg_doc',\n",
       " '_aggregate',\n",
       " '_aggregate_multiple_funcs',\n",
       " '_align_frame',\n",
       " '_align_series',\n",
       " '_apply_broadcast',\n",
       " '_apply_empty_result',\n",
       " '_apply_raw',\n",
       " '_apply_standard',\n",
       " '_at',\n",
       " '_box_col_values',\n",
       " '_box_item_values',\n",
       " '_builtin_table',\n",
       " '_check_inplace_setting',\n",
       " '_check_is_chained_assignment_possible',\n",
       " '_check_percentile',\n",
       " '_check_setitem_copy',\n",
       " '_clear_item_cache',\n",
       " '_combine_const',\n",
       " '_combine_frame',\n",
       " '_combine_match_columns',\n",
       " '_combine_match_index',\n",
       " '_combine_series',\n",
       " '_combine_series_infer',\n",
       " '_compare_frame',\n",
       " '_compare_frame_evaluate',\n",
       " '_consolidate',\n",
       " '_consolidate_inplace',\n",
       " '_construct_axes_dict',\n",
       " '_construct_axes_dict_for_slice',\n",
       " '_construct_axes_dict_from',\n",
       " '_construct_axes_from_arguments',\n",
       " '_constructor',\n",
       " '_constructor_expanddim',\n",
       " '_constructor_sliced',\n",
       " '_convert',\n",
       " '_count_level',\n",
       " '_create_indexer',\n",
       " '_cython_table',\n",
       " '_dir_additions',\n",
       " '_dir_deletions',\n",
       " '_ensure_valid_index',\n",
       " '_expand_axes',\n",
       " '_flex_compare_frame',\n",
       " '_from_arrays',\n",
       " '_from_axes',\n",
       " '_get_agg_axis',\n",
       " '_get_axis',\n",
       " '_get_axis_name',\n",
       " '_get_axis_number',\n",
       " '_get_axis_resolvers',\n",
       " '_get_block_manager_axis',\n",
       " '_get_bool_data',\n",
       " '_get_cacher',\n",
       " '_get_index_resolvers',\n",
       " '_get_item_cache',\n",
       " '_get_numeric_data',\n",
       " '_get_values',\n",
       " '_getitem_array',\n",
       " '_getitem_column',\n",
       " '_getitem_frame',\n",
       " '_getitem_multilevel',\n",
       " '_getitem_slice',\n",
       " '_gotitem',\n",
       " '_iat',\n",
       " '_iget_item_cache',\n",
       " '_iloc',\n",
       " '_indexed_same',\n",
       " '_info_axis',\n",
       " '_info_axis_name',\n",
       " '_info_axis_number',\n",
       " '_info_repr',\n",
       " '_init_dict',\n",
       " '_init_mgr',\n",
       " '_init_ndarray',\n",
       " '_internal_names',\n",
       " '_internal_names_set',\n",
       " '_is_builtin_func',\n",
       " '_is_cached',\n",
       " '_is_cython_func',\n",
       " '_is_datelike_mixed_type',\n",
       " '_is_mixed_type',\n",
       " '_is_numeric_mixed_type',\n",
       " '_is_view',\n",
       " '_ix',\n",
       " '_ixs',\n",
       " '_join_compat',\n",
       " '_loc',\n",
       " '_maybe_cache_changed',\n",
       " '_maybe_update_cacher',\n",
       " '_metadata',\n",
       " '_needs_reindex_multi',\n",
       " '_obj_with_exclusions',\n",
       " '_protect_consolidate',\n",
       " '_reduce',\n",
       " '_reindex_axes',\n",
       " '_reindex_axis',\n",
       " '_reindex_columns',\n",
       " '_reindex_index',\n",
       " '_reindex_multi',\n",
       " '_reindex_with_indexers',\n",
       " '_repr_data_resource_',\n",
       " '_repr_fits_horizontal_',\n",
       " '_repr_fits_vertical_',\n",
       " '_repr_html_',\n",
       " '_repr_latex_',\n",
       " '_reset_cache',\n",
       " '_reset_cacher',\n",
       " '_sanitize_column',\n",
       " '_selected_obj',\n",
       " '_selection',\n",
       " '_selection_list',\n",
       " '_selection_name',\n",
       " '_series',\n",
       " '_set_as_cached',\n",
       " '_set_axis',\n",
       " '_set_axis_name',\n",
       " '_set_is_copy',\n",
       " '_set_item',\n",
       " '_setitem_array',\n",
       " '_setitem_frame',\n",
       " '_setitem_slice',\n",
       " '_setup_axes',\n",
       " '_shallow_copy',\n",
       " '_slice',\n",
       " '_stat_axis',\n",
       " '_stat_axis_name',\n",
       " '_stat_axis_number',\n",
       " '_try_aggregate_string_function',\n",
       " '_typ',\n",
       " '_unpickle_frame_compat',\n",
       " '_unpickle_matrix_compat',\n",
       " '_update_inplace',\n",
       " '_validate_dtype',\n",
       " '_values',\n",
       " '_where',\n",
       " '_xs',\n",
       " 'abs',\n",
       " 'add',\n",
       " 'add_prefix',\n",
       " 'add_suffix',\n",
       " 'agg',\n",
       " 'aggregate',\n",
       " 'align',\n",
       " 'all',\n",
       " 'any',\n",
       " 'append',\n",
       " 'apply',\n",
       " 'applymap',\n",
       " 'as_blocks',\n",
       " 'as_matrix',\n",
       " 'asfreq',\n",
       " 'asof',\n",
       " 'assign',\n",
       " 'astype',\n",
       " 'at',\n",
       " 'at_time',\n",
       " 'axes',\n",
       " 'between_time',\n",
       " 'bfill',\n",
       " 'blocks',\n",
       " 'bool',\n",
       " 'boxplot',\n",
       " 'clip',\n",
       " 'clip_lower',\n",
       " 'clip_upper',\n",
       " 'columns',\n",
       " 'combine',\n",
       " 'combine_first',\n",
       " 'compound',\n",
       " 'consolidate',\n",
       " 'convert_objects',\n",
       " 'copy',\n",
       " 'corr',\n",
       " 'corrwith',\n",
       " 'count',\n",
       " 'cov',\n",
       " 'cummax',\n",
       " 'cummin',\n",
       " 'cumprod',\n",
       " 'cumsum',\n",
       " 'describe',\n",
       " 'diff',\n",
       " 'div',\n",
       " 'divide',\n",
       " 'dot',\n",
       " 'drop',\n",
       " 'drop_duplicates',\n",
       " 'dropna',\n",
       " 'dtypes',\n",
       " 'duplicated',\n",
       " 'empty',\n",
       " 'eq',\n",
       " 'equals',\n",
       " 'eval',\n",
       " 'ewm',\n",
       " 'expanding',\n",
       " 'ffill',\n",
       " 'fillna',\n",
       " 'filter',\n",
       " 'first',\n",
       " 'first_valid_index',\n",
       " 'floordiv',\n",
       " 'from_csv',\n",
       " 'from_dict',\n",
       " 'from_items',\n",
       " 'from_records',\n",
       " 'ftypes',\n",
       " 'ge',\n",
       " 'get',\n",
       " 'get_dtype_counts',\n",
       " 'get_ftype_counts',\n",
       " 'get_value',\n",
       " 'get_values',\n",
       " 'groupby',\n",
       " 'gt',\n",
       " 'head',\n",
       " 'hist',\n",
       " 'iat',\n",
       " 'idxmax',\n",
       " 'idxmin',\n",
       " 'iloc',\n",
       " 'index',\n",
       " 'info',\n",
       " 'insert',\n",
       " 'interpolate',\n",
       " 'is_copy',\n",
       " 'isin',\n",
       " 'isnull',\n",
       " 'items',\n",
       " 'iteritems',\n",
       " 'iterrows',\n",
       " 'itertuples',\n",
       " 'ix',\n",
       " 'join',\n",
       " 'keys',\n",
       " 'kurt',\n",
       " 'kurtosis',\n",
       " 'last',\n",
       " 'last_valid_index',\n",
       " 'le',\n",
       " 'loc',\n",
       " 'lookup',\n",
       " 'lt',\n",
       " 'mad',\n",
       " 'mask',\n",
       " 'max',\n",
       " 'mean',\n",
       " 'median',\n",
       " 'melt',\n",
       " 'memory_usage',\n",
       " 'merge',\n",
       " 'min',\n",
       " 'mod',\n",
       " 'mode',\n",
       " 'mul',\n",
       " 'multiply',\n",
       " 'ndim',\n",
       " 'ne',\n",
       " 'nlargest',\n",
       " 'notnull',\n",
       " 'nsmallest',\n",
       " 'nunique',\n",
       " 'pct_change',\n",
       " 'pipe',\n",
       " 'pivot',\n",
       " 'pivot_table',\n",
       " 'plot',\n",
       " 'pop',\n",
       " 'pow',\n",
       " 'prod',\n",
       " 'product',\n",
       " 'quantile',\n",
       " 'query',\n",
       " 'radd',\n",
       " 'rank',\n",
       " 'rdiv',\n",
       " 'reindex',\n",
       " 'reindex_axis',\n",
       " 'reindex_like',\n",
       " 'rename',\n",
       " 'rename_axis',\n",
       " 'reorder_levels',\n",
       " 'replace',\n",
       " 'resample',\n",
       " 'reset_index',\n",
       " 'rfloordiv',\n",
       " 'rmod',\n",
       " 'rmul',\n",
       " 'rolling',\n",
       " 'round',\n",
       " 'rpow',\n",
       " 'rsub',\n",
       " 'rtruediv',\n",
       " 'sample',\n",
       " 'select',\n",
       " 'select_dtypes',\n",
       " 'sem',\n",
       " 'set_axis',\n",
       " 'set_index',\n",
       " 'set_value',\n",
       " 'shape',\n",
       " 'shift',\n",
       " 'size',\n",
       " 'skew',\n",
       " 'slice_shift',\n",
       " 'sort_index',\n",
       " 'sort_values',\n",
       " 'sortlevel',\n",
       " 'squeeze',\n",
       " 'stack',\n",
       " 'std',\n",
       " 'style',\n",
       " 'sub',\n",
       " 'subtract',\n",
       " 'sum',\n",
       " 'swapaxes',\n",
       " 'swaplevel',\n",
       " 'tail',\n",
       " 'take',\n",
       " 'to_clipboard',\n",
       " 'to_csv',\n",
       " 'to_dense',\n",
       " 'to_dict',\n",
       " 'to_excel',\n",
       " 'to_feather',\n",
       " 'to_gbq',\n",
       " 'to_hdf',\n",
       " 'to_html',\n",
       " 'to_json',\n",
       " 'to_latex',\n",
       " 'to_msgpack',\n",
       " 'to_panel',\n",
       " 'to_period',\n",
       " 'to_pickle',\n",
       " 'to_records',\n",
       " 'to_sparse',\n",
       " 'to_sql',\n",
       " 'to_stata',\n",
       " 'to_string',\n",
       " 'to_timestamp',\n",
       " 'to_xarray',\n",
       " 'transform',\n",
       " 'transpose',\n",
       " 'truediv',\n",
       " 'truncate',\n",
       " 'tshift',\n",
       " 'tz_convert',\n",
       " 'tz_localize',\n",
       " 'unstack',\n",
       " 'update',\n",
       " 'values',\n",
       " 'var',\n",
       " 'where',\n",
       " 'xs']"
      ]
     },
     "execution_count": 70,
     "metadata": {},
     "output_type": "execute_result"
    }
   ],
   "source": [
    "dir(df)"
   ]
  },
  {
   "cell_type": "code",
   "execution_count": 72,
   "metadata": {
    "collapsed": false
   },
   "outputs": [
    {
     "data": {
      "text/html": [
       "<div>\n",
       "<style>\n",
       "    .dataframe thead tr:only-child th {\n",
       "        text-align: right;\n",
       "    }\n",
       "\n",
       "    .dataframe thead th {\n",
       "        text-align: left;\n",
       "    }\n",
       "\n",
       "    .dataframe tbody tr th {\n",
       "        vertical-align: top;\n",
       "    }\n",
       "</style>\n",
       "<table border=\"1\" class=\"dataframe\">\n",
       "  <thead>\n",
       "    <tr style=\"text-align: right;\">\n",
       "      <th></th>\n",
       "      <th>0</th>\n",
       "      <th>1</th>\n",
       "      <th>2</th>\n",
       "      <th>3</th>\n",
       "      <th>4</th>\n",
       "      <th>5</th>\n",
       "      <th>6</th>\n",
       "      <th>7</th>\n",
       "      <th>8</th>\n",
       "      <th>9</th>\n",
       "    </tr>\n",
       "  </thead>\n",
       "  <tbody>\n",
       "    <tr>\n",
       "      <th>0</th>\n",
       "      <td>0.765980</td>\n",
       "      <td>0.266228</td>\n",
       "      <td>0.436218</td>\n",
       "      <td>0.600639</td>\n",
       "      <td>0.842315</td>\n",
       "      <td>0.601658</td>\n",
       "      <td>0.899374</td>\n",
       "      <td>0.653166</td>\n",
       "      <td>0.454936</td>\n",
       "      <td>0.752796</td>\n",
       "    </tr>\n",
       "    <tr>\n",
       "      <th>1</th>\n",
       "      <td>0.791548</td>\n",
       "      <td>0.832797</td>\n",
       "      <td>0.769752</td>\n",
       "      <td>0.644439</td>\n",
       "      <td>0.842315</td>\n",
       "      <td>0.601658</td>\n",
       "      <td>0.899374</td>\n",
       "      <td>0.653166</td>\n",
       "      <td>0.454936</td>\n",
       "      <td>0.776397</td>\n",
       "    </tr>\n",
       "    <tr>\n",
       "      <th>2</th>\n",
       "      <td>0.791548</td>\n",
       "      <td>0.832797</td>\n",
       "      <td>0.769752</td>\n",
       "      <td>0.644439</td>\n",
       "      <td>0.842315</td>\n",
       "      <td>0.806180</td>\n",
       "      <td>0.899374</td>\n",
       "      <td>0.677126</td>\n",
       "      <td>0.544705</td>\n",
       "      <td>0.776397</td>\n",
       "    </tr>\n",
       "    <tr>\n",
       "      <th>3</th>\n",
       "      <td>0.791548</td>\n",
       "      <td>0.832797</td>\n",
       "      <td>0.769752</td>\n",
       "      <td>0.777979</td>\n",
       "      <td>0.842315</td>\n",
       "      <td>0.806180</td>\n",
       "      <td>0.952119</td>\n",
       "      <td>0.711372</td>\n",
       "      <td>0.795740</td>\n",
       "      <td>0.776397</td>\n",
       "    </tr>\n",
       "    <tr>\n",
       "      <th>4</th>\n",
       "      <td>0.819881</td>\n",
       "      <td>0.832797</td>\n",
       "      <td>0.769752</td>\n",
       "      <td>0.777979</td>\n",
       "      <td>0.975643</td>\n",
       "      <td>0.806180</td>\n",
       "      <td>0.954682</td>\n",
       "      <td>0.842771</td>\n",
       "      <td>0.795740</td>\n",
       "      <td>0.776397</td>\n",
       "    </tr>\n",
       "    <tr>\n",
       "      <th>5</th>\n",
       "      <td>0.819881</td>\n",
       "      <td>0.832797</td>\n",
       "      <td>0.769752</td>\n",
       "      <td>0.777979</td>\n",
       "      <td>0.975643</td>\n",
       "      <td>0.806180</td>\n",
       "      <td>0.954682</td>\n",
       "      <td>0.842771</td>\n",
       "      <td>0.874149</td>\n",
       "      <td>0.911249</td>\n",
       "    </tr>\n",
       "    <tr>\n",
       "      <th>6</th>\n",
       "      <td>0.819881</td>\n",
       "      <td>0.832797</td>\n",
       "      <td>0.868276</td>\n",
       "      <td>0.808416</td>\n",
       "      <td>0.975643</td>\n",
       "      <td>0.806180</td>\n",
       "      <td>0.954682</td>\n",
       "      <td>0.842771</td>\n",
       "      <td>0.874149</td>\n",
       "      <td>0.911249</td>\n",
       "    </tr>\n",
       "    <tr>\n",
       "      <th>7</th>\n",
       "      <td>0.819881</td>\n",
       "      <td>0.832797</td>\n",
       "      <td>0.868276</td>\n",
       "      <td>0.808416</td>\n",
       "      <td>0.975643</td>\n",
       "      <td>0.806180</td>\n",
       "      <td>0.954682</td>\n",
       "      <td>0.909736</td>\n",
       "      <td>0.874149</td>\n",
       "      <td>0.911249</td>\n",
       "    </tr>\n",
       "    <tr>\n",
       "      <th>8</th>\n",
       "      <td>0.819881</td>\n",
       "      <td>0.832797</td>\n",
       "      <td>0.868276</td>\n",
       "      <td>0.808416</td>\n",
       "      <td>0.975643</td>\n",
       "      <td>0.853855</td>\n",
       "      <td>0.954682</td>\n",
       "      <td>0.909736</td>\n",
       "      <td>0.938656</td>\n",
       "      <td>0.911249</td>\n",
       "    </tr>\n",
       "    <tr>\n",
       "      <th>9</th>\n",
       "      <td>0.819881</td>\n",
       "      <td>0.832797</td>\n",
       "      <td>0.868276</td>\n",
       "      <td>0.808416</td>\n",
       "      <td>0.975643</td>\n",
       "      <td>0.853855</td>\n",
       "      <td>0.954682</td>\n",
       "      <td>0.909736</td>\n",
       "      <td>0.938656</td>\n",
       "      <td>0.911249</td>\n",
       "    </tr>\n",
       "  </tbody>\n",
       "</table>\n",
       "</div>"
      ],
      "text/plain": [
       "          0         1         2         3         4         5         6  \\\n",
       "0  0.765980  0.266228  0.436218  0.600639  0.842315  0.601658  0.899374   \n",
       "1  0.791548  0.832797  0.769752  0.644439  0.842315  0.601658  0.899374   \n",
       "2  0.791548  0.832797  0.769752  0.644439  0.842315  0.806180  0.899374   \n",
       "3  0.791548  0.832797  0.769752  0.777979  0.842315  0.806180  0.952119   \n",
       "4  0.819881  0.832797  0.769752  0.777979  0.975643  0.806180  0.954682   \n",
       "5  0.819881  0.832797  0.769752  0.777979  0.975643  0.806180  0.954682   \n",
       "6  0.819881  0.832797  0.868276  0.808416  0.975643  0.806180  0.954682   \n",
       "7  0.819881  0.832797  0.868276  0.808416  0.975643  0.806180  0.954682   \n",
       "8  0.819881  0.832797  0.868276  0.808416  0.975643  0.853855  0.954682   \n",
       "9  0.819881  0.832797  0.868276  0.808416  0.975643  0.853855  0.954682   \n",
       "\n",
       "          7         8         9  \n",
       "0  0.653166  0.454936  0.752796  \n",
       "1  0.653166  0.454936  0.776397  \n",
       "2  0.677126  0.544705  0.776397  \n",
       "3  0.711372  0.795740  0.776397  \n",
       "4  0.842771  0.795740  0.776397  \n",
       "5  0.842771  0.874149  0.911249  \n",
       "6  0.842771  0.874149  0.911249  \n",
       "7  0.909736  0.874149  0.911249  \n",
       "8  0.909736  0.938656  0.911249  \n",
       "9  0.909736  0.938656  0.911249  "
      ]
     },
     "execution_count": 72,
     "metadata": {},
     "output_type": "execute_result"
    }
   ],
   "source": [
    "df.cummax()"
   ]
  },
  {
   "cell_type": "code",
   "execution_count": null,
   "metadata": {
    "collapsed": true
   },
   "outputs": [],
   "source": []
  }
 ],
 "metadata": {
  "kernelspec": {
   "display_name": "Python 3",
   "language": "python",
   "name": "python3"
  },
  "language_info": {
   "codemirror_mode": {
    "name": "ipython",
    "version": 3
   },
   "file_extension": ".py",
   "mimetype": "text/x-python",
   "name": "python",
   "nbconvert_exporter": "python",
   "pygments_lexer": "ipython3",
   "version": "3.6.0"
  }
 },
 "nbformat": 4,
 "nbformat_minor": 2
}
